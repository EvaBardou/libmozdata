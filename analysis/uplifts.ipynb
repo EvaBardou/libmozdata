{
 "metadata": {
  "name": "",
  "signature": "sha256:9c35ed05f006fbf666a90ef2dc3883ae59fe94e14781ab92b68733a3b1724205"
 },
 "nbformat": 3,
 "nbformat_minor": 0,
 "worksheets": [
  {
   "cells": [
    {
     "cell_type": "code",
     "collapsed": false,
     "input": [
      "%matplotlib inline\n",
      "\n",
      "import sys\n",
      "import os\n",
      "import copy\n",
      "import pickle\n",
      "import gzip\n",
      "import pandas as pd\n",
      "from pprint import pprint\n",
      "\n",
      "sys.path.append(os.path.join(sys.path[0], '..'))\n",
      "\n",
      "from clouseau import bugzilla\n",
      "from clouseau import patchanalysis"
     ],
     "language": "python",
     "metadata": {},
     "outputs": [],
     "prompt_number": 1
    },
    {
     "cell_type": "code",
     "collapsed": false,
     "input": [
      "channel = 'release'"
     ],
     "language": "python",
     "metadata": {},
     "outputs": [],
     "prompt_number": 2
    },
    {
     "cell_type": "code",
     "collapsed": false,
     "input": [
      "bugs = []\n",
      "try:\n",
      "    with gzip.GzipFile('bugs_' + channel + '_uplifts.pickle.gz', 'rb') as f:\n",
      "        bugs += pickle.load(f)\n",
      "\n",
      "    print('Loaded ' + str(len(bugs)) + ' bugs.')\n",
      "except IOError:\n",
      "    pass\n",
      "\n",
      "INCLUDE_FIELDS = [\n",
      "  'id', 'flags', 'depends_on', 'keywords', 'blocks', 'whiteboard', 'resolution', 'status',\n",
      "  'url', 'version', 'summary', 'priority', 'product', 'component', 'severity',\n",
      "  'platform', 'op_sys', 'cc',\n",
      "]\n",
      "\n",
      "ATTACHMENT_INCLUDE_FIELDS = [\n",
      "  'flags', 'is_patch', 'creator', 'content_type',\n",
      "]\n",
      "\n",
      "INCLUDE_FIELDS_QUERY = 'include_fields=' + ','.join(INCLUDE_FIELDS)\n",
      "\n",
      "found = []\n",
      "finished = False\n",
      "while not finished:\n",
      "    bugs_dict = dict()\n",
      "\n",
      "    def bughandler(bug, data):\n",
      "        bugid = str(bug['id'])\n",
      "\n",
      "        if bugid not in bugs_dict:\n",
      "            bugs_dict[bugid] = dict()\n",
      "\n",
      "        for k, v in bug.items():\n",
      "            bugs_dict[bugid][k] = v\n",
      "\n",
      "    def commenthandler(bug, bugid, data):\n",
      "        bugid = str(bugid)\n",
      "\n",
      "        if bugid not in bugs_dict:\n",
      "            bugs_dict[bugid] = dict()\n",
      "\n",
      "        bugs_dict[bugid]['comments'] = bug['comments']\n",
      "\n",
      "    def attachmenthandler(bug, bugid, data):\n",
      "        bugid = str(bugid)\n",
      "\n",
      "        if bugid not in bugs_dict:\n",
      "            bugs_dict[bugid] = dict()\n",
      "\n",
      "        bugs_dict[bugid]['attachments'] = bug\n",
      "\n",
      "    def historyhandler(bug, data):\n",
      "        bugid = str(bug['id'])\n",
      "\n",
      "        if bugid not in bugs_dict:\n",
      "            bugs_dict[bugid] = dict()\n",
      "\n",
      "        bugs_dict[bugid]['history'] = bug['history']\n",
      "\n",
      "    bugzilla.Bugzilla('limit=200&offset=' + str(len(bugs)) + '&o1=anywords&v1=approval-mozilla-' + channel + '&f1=flagtypes.name&' + INCLUDE_FIELDS_QUERY, bughandler=bughandler, commenthandler=commenthandler, attachmenthandler=attachmenthandler, attachment_include_fields=ATTACHMENT_INCLUDE_FIELDS, historyhandler=historyhandler).get_data().wait()\n",
      "\n",
      "    found = [bug for bug in bugs_dict.values()]\n",
      "\n",
      "    print('Found ' + str(len(found)) + ' bugs.')\n",
      "\n",
      "    bugs += found\n",
      "\n",
      "    if len(found) != 0:\n",
      "        with open('bugs_' + channel + '_uplifts.pickle', 'wb') as f:\n",
      "            pickle.dump(bugs, f)\n",
      "\n",
      "    if len(found) < 100:\n",
      "        finished = True\n",
      "\n",
      "        try:\n",
      "            os.remove('bugs_' + channel + '_uplifts.pickle')\n",
      "        except:\n",
      "            pass\n",
      "\n",
      "        with gzip.GzipFile('bugs_' + channel + '_uplifts.pickle.gz', 'wb') as f:\n",
      "            pickle.dump(bugs, f)"
     ],
     "language": "python",
     "metadata": {},
     "outputs": [
      {
       "output_type": "stream",
       "stream": "stdout",
       "text": [
        "Loaded 578 bugs.\n",
        "Found 0 bugs."
       ]
      },
      {
       "output_type": "stream",
       "stream": "stdout",
       "text": [
        "\n"
       ]
      }
     ],
     "prompt_number": 3
    },
    {
     "cell_type": "code",
     "collapsed": false,
     "input": [
      "len(bugs)"
     ],
     "language": "python",
     "metadata": {},
     "outputs": [
      {
       "metadata": {},
       "output_type": "pyout",
       "prompt_number": 4,
       "text": [
        "578"
       ]
      }
     ],
     "prompt_number": 4
    },
    {
     "cell_type": "code",
     "collapsed": false,
     "input": [
      "bug_set = list()\n",
      "\n",
      "i = 1\n",
      "\n",
      "for bug in bugs:\n",
      "    # Skip this bug because it's crazy.\n",
      "    if bug['id'] == 784739:\n",
      "        continue\n",
      "\n",
      "    print(str(i) + ' ' + str(bug['id']))\n",
      "    sys.stdout.flush()\n",
      "    i += 1\n",
      "\n",
      "    bug_data = {}\n",
      "\n",
      "    try:\n",
      "        bug_data.update(patchanalysis.bug_analysis(bug))\n",
      "\n",
      "        assert 'changes_size' in bug_data, 'changes_size not in bug_data'\n",
      "        assert bug_data['changes_size'] > 0, 'changes_size too small'\n",
      "    except Exception as e:\n",
      "        print('bug_analysis error with bug ' + str(bug['id']) + ': ' + str(e))\n",
      "\n",
      "    try:\n",
      "        bug_data.update(patchanalysis.uplift_info(bug, channel))\n",
      "    except Exception as e:\n",
      "        print('uplift_info error with bug ' + str(bug['id']) + ': ' + str(e))\n",
      "\n",
      "    bug_data['product'] = bug['product']\n",
      "    bug_data['component'] = bug['component']\n",
      "    bug_data['platform'] = bug['platform']\n",
      "    bug_data['op_sys'] = bug['op_sys']\n",
      "    bug_data['version'] = bug['version']\n",
      "    bug_data['priority'] = bug['priority']\n",
      "\n",
      "    bug_set.append(bug_data)\n",
      "\n",
      "len(bug_set)"
     ],
     "language": "python",
     "metadata": {},
     "outputs": [
      {
       "output_type": "stream",
       "stream": "stdout",
       "text": [
        "1 909494\n"
       ]
      },
      {
       "output_type": "stream",
       "stream": "stdout",
       "text": [
        "2 1005958\n"
       ]
      },
      {
       "output_type": "stream",
       "stream": "stdout",
       "text": [
        "3 724284\n"
       ]
      },
      {
       "output_type": "stream",
       "stream": "stdout",
       "text": [
        "4 673131\n"
       ]
      },
      {
       "output_type": "stream",
       "stream": "stdout",
       "text": [
        "5 857883\n"
       ]
      },
      {
       "output_type": "stream",
       "stream": "stdout",
       "text": [
        "6 803531\n"
       ]
      },
      {
       "output_type": "stream",
       "stream": "stdout",
       "text": [
        "7 901821\n"
       ]
      },
      {
       "output_type": "stream",
       "stream": "stdout",
       "text": [
        "8 731795\n"
       ]
      },
      {
       "output_type": "stream",
       "stream": "stdout",
       "text": [
        "9 859425\n"
       ]
      },
      {
       "output_type": "stream",
       "stream": "stdout",
       "text": [
        "10 764252\n"
       ]
      },
      {
       "output_type": "stream",
       "stream": "stdout",
       "text": [
        "11 701875\n"
       ]
      },
      {
       "output_type": "stream",
       "stream": "stdout",
       "text": [
        "12 828184\n"
       ]
      },
      {
       "output_type": "stream",
       "stream": "stdout",
       "text": [
        "13 790856\n"
       ]
      },
      {
       "output_type": "stream",
       "stream": "stdout",
       "text": [
        "14 815042\n"
       ]
      },
      {
       "output_type": "stream",
       "stream": "stdout",
       "text": [
        "15 691663\n"
       ]
      },
      {
       "output_type": "stream",
       "stream": "stdout",
       "text": [
        "16 853033\n"
       ]
      },
      {
       "output_type": "stream",
       "stream": "stderr",
       "text": [
        "-c:25: UserWarning: Bug 859425 doesn't have a uplift request date.\n",
        "-c:17: UserWarning: Revision 8de609c5d378 is related to another bug (743252).\n"
       ]
      },
      {
       "output_type": "stream",
       "stream": "stdout",
       "text": [
        "17 1020041\n"
       ]
      },
      {
       "output_type": "stream",
       "stream": "stdout",
       "text": [
        "18 781018\n"
       ]
      },
      {
       "output_type": "stream",
       "stream": "stdout",
       "text": [
        "19 699633\n"
       ]
      },
      {
       "output_type": "stream",
       "stream": "stdout",
       "text": [
        "20 828202\n"
       ]
      },
      {
       "output_type": "stream",
       "stream": "stdout",
       "text": [
        "21 735842\n"
       ]
      },
      {
       "output_type": "stream",
       "stream": "stdout",
       "text": [
        "22 1022816\n"
       ]
      },
      {
       "output_type": "stream",
       "stream": "stdout",
       "text": [
        "23 871942\n"
       ]
      },
      {
       "output_type": "stream",
       "stream": "stdout",
       "text": [
        "24 998785\n"
       ]
      },
      {
       "output_type": "stream",
       "stream": "stdout",
       "text": [
        "25 854340\n"
       ]
      },
      {
       "output_type": "stream",
       "stream": "stderr",
       "text": [
        "-c:17: UserWarning: Reviewer jlebar could not be found.\n",
        "-c:17: UserWarning: Revision e036427942ff is related to another bug (61098).\n"
       ]
      },
      {
       "output_type": "stream",
       "stream": "stdout",
       "text": [
        "26 907373\n"
       ]
      },
      {
       "output_type": "stream",
       "stream": "stdout",
       "text": [
        "27 864262\n"
       ]
      },
      {
       "output_type": "stream",
       "stream": "stdout",
       "text": [
        "28 777220\n"
       ]
      },
      {
       "output_type": "stream",
       "stream": "stdout",
       "text": [
        "29 961749\n"
       ]
      },
      {
       "output_type": "stream",
       "stream": "stdout",
       "text": [
        "30 941381\n"
       ]
      },
      {
       "output_type": "stream",
       "stream": "stderr",
       "text": [
        "-c:25: UserWarning: Bug 854340 doesn't have a uplift request date.\n",
        "-c:17: UserWarning: Revision e1226725f674 is related to another bug (918613).\n"
       ]
      },
      {
       "output_type": "stream",
       "stream": "stdout",
       "text": [
        "31 914034\n"
       ]
      },
      {
       "output_type": "stream",
       "stream": "stderr",
       "text": [
        "-c:17: UserWarning: Revision 0fd96a1e096b is related to another bug (886185).\n",
        "-c:17: UserWarning: Revision 923aca74a801 is related to another bug (796894).\n"
       ]
      },
      {
       "output_type": "stream",
       "stream": "stderr",
       "text": [
        "-c:17: UserWarning: Revision 23c23b472a4f is related to another bug (928765).\n",
        "-c:25: UserWarning: Bug 914034 doesn't have a uplift request date.\n"
       ]
      },
      {
       "output_type": "stream",
       "stream": "stdout",
       "text": [
        "32 903475\n"
       ]
      },
      {
       "output_type": "stream",
       "stream": "stdout",
       "text": [
        "33 904001\n"
       ]
      },
      {
       "output_type": "stream",
       "stream": "stdout",
       "text": [
        "34 795104\n"
       ]
      },
      {
       "output_type": "stream",
       "stream": "stdout",
       "text": [
        "35 668639\n"
       ]
      },
      {
       "output_type": "stream",
       "stream": "stderr",
       "text": [
        "-c:25: UserWarning: Bug 904001 doesn't have a uplift request date.\n",
        "-c:25: UserWarning: Bug 668639 doesn't have a uplift request date.\n"
       ]
      },
      {
       "output_type": "stream",
       "stream": "stdout",
       "text": [
        "36 758363\n"
       ]
      },
      {
       "output_type": "stream",
       "stream": "stdout",
       "text": [
        "37 765271\n"
       ]
      },
      {
       "output_type": "stream",
       "stream": "stdout",
       "text": [
        "Connection error:\n",
        "   url:  http://marco-ThinkPad-W541:8000//json-filelog?node=tip&revcount=4096&file=release%2Fsigning%2Fsigning.py\n",
        "   text:  \"release/signing/signing.py@c9edfe35619f: non trovato nel manifesto\"\n",
        "Connection error:\n",
        "   url:  http://marco-ThinkPad-W541:8000//json-filelog?node=tip&revcount=4096&file=release%2Fsigning%2Fsignscript.py\n",
        "   text:  \"release/signing/signscript.py@c9edfe35619f: non trovato nel manifesto\"\n",
        "Connection error:\n",
        "   url:  http://marco-ThinkPad-W541:8000//json-filelog?node=tip&revcount=4096&file=modules%2Fsigningserver%2Fmanifests%2Finstance.pp\n",
        "   text:  \"modules/signingserver/manifests/instance.pp@c9edfe35619f: non trovato nel manifesto\"\n",
        "Connection error:\n",
        "   url:  http://marco-ThinkPad-W541:8000//json-filelog?node=tip&revcount=4096&file=modules%2Fsigningserver%2Ftemplates%2Fsignscript.ini.erb\n",
        "   text:  \"modules/signingserver/templates/signscript.ini.erb@c9edfe35619f: non trovato nel manifesto\"\n",
        "38 945912"
       ]
      },
      {
       "output_type": "stream",
       "stream": "stdout",
       "text": [
        "\n"
       ]
      },
      {
       "output_type": "stream",
       "stream": "stdout",
       "text": [
        "39 896268\n"
       ]
      },
      {
       "output_type": "stream",
       "stream": "stderr",
       "text": [
        "-c:25: UserWarning: Bug 758363 doesn't have a uplift request date.\n",
        "-c:17: UserWarning: Revision 9fd04fd70fc2 is related to another bug (889500).\n"
       ]
      },
      {
       "output_type": "stream",
       "stream": "stdout",
       "text": [
        "40 793829\n"
       ]
      },
      {
       "output_type": "stream",
       "stream": "stderr",
       "text": [
        "-c:17: UserWarning: Revision f85f06761d52 is related to another bug (900702).\n",
        "-c:25: UserWarning: Bug 793829 doesn't have a uplift request date.\n"
       ]
      },
      {
       "output_type": "stream",
       "stream": "stdout",
       "text": [
        "41 829421\n"
       ]
      },
      {
       "output_type": "stream",
       "stream": "stdout",
       "text": [
        "42 799266\n"
       ]
      },
      {
       "output_type": "stream",
       "stream": "stdout",
       "text": [
        "43 828236\n"
       ]
      },
      {
       "output_type": "stream",
       "stream": "stdout",
       "text": [
        "44 974825\n"
       ]
      },
      {
       "output_type": "stream",
       "stream": "stdout",
       "text": [
        "45 696020\n"
       ]
      },
      {
       "output_type": "stream",
       "stream": "stdout",
       "text": [
        "46 721760\n"
       ]
      },
      {
       "output_type": "stream",
       "stream": "stdout",
       "text": [
        "47 780549\n"
       ]
      },
      {
       "output_type": "stream",
       "stream": "stderr",
       "text": [
        "-c:17: UserWarning: Revision 8b84e9b8e24d is related to another bug (841734).\n",
        "-c:17: UserWarning: Revision de5db0c4c3ff was not found.\n"
       ]
      },
      {
       "output_type": "stream",
       "stream": "stdout",
       "text": [
        "48 1021265\n"
       ]
      },
      {
       "output_type": "stream",
       "stream": "stdout",
       "text": [
        "49 934509\n"
       ]
      },
      {
       "output_type": "stream",
       "stream": "stderr",
       "text": [
        "-c:17: UserWarning: Reviewer bas@basschouten.com is not in the list of reviewers on Bugzilla.\n",
        "-c:17: UserWarning: Revision 508288a2b62c is related to another bug (918345).\n"
       ]
      },
      {
       "output_type": "stream",
       "stream": "stdout",
       "text": [
        "50 853522\n"
       ]
      },
      {
       "output_type": "stream",
       "stream": "stdout",
       "text": [
        "51 691847\n"
       ]
      },
      {
       "output_type": "stream",
       "stream": "stdout",
       "text": [
        "52 694454\n"
       ]
      },
      {
       "output_type": "stream",
       "stream": "stdout",
       "text": [
        "53 772347\n"
       ]
      },
      {
       "output_type": "stream",
       "stream": "stdout",
       "text": [
        "54 791051\n"
       ]
      },
      {
       "output_type": "stream",
       "stream": "stdout",
       "text": [
        "55 711656\n"
       ]
      },
      {
       "output_type": "stream",
       "stream": "stdout",
       "text": [
        "56 843733\n"
       ]
      },
      {
       "output_type": "stream",
       "stream": "stderr",
       "text": [
        "-c:25: UserWarning: Bug 711656 doesn't have a uplift request date.\n",
        "-c:17: UserWarning: Reviewer mjronseb could not be found.\n"
       ]
      },
      {
       "output_type": "stream",
       "stream": "stdout",
       "text": [
        "57 1027359\n"
       ]
      },
      {
       "output_type": "stream",
       "stream": "stdout",
       "text": [
        "58 788600\n"
       ]
      },
      {
       "output_type": "stream",
       "stream": "stderr",
       "text": [
        "-c:25: UserWarning: Bug 1027359 doesn't have a uplift request date.\n",
        "-c:17: UserWarning: Revision ad4fd5dcc088 was not found.\n"
       ]
      },
      {
       "output_type": "stream",
       "stream": "stdout",
       "text": [
        "bug_analysis error with bug 788600: changes_size not in bug_data\n",
        "59 768243\n"
       ]
      },
      {
       "output_type": "stream",
       "stream": "stdout",
       "text": [
        "60 827304\n"
       ]
      },
      {
       "output_type": "stream",
       "stream": "stdout",
       "text": [
        "61 806192\n"
       ]
      },
      {
       "output_type": "stream",
       "stream": "stdout",
       "text": [
        "62 939719\n"
       ]
      },
      {
       "output_type": "stream",
       "stream": "stdout",
       "text": [
        "63 843434\n"
       ]
      },
      {
       "output_type": "stream",
       "stream": "stdout",
       "text": [
        "64 818023\n"
       ]
      },
      {
       "output_type": "stream",
       "stream": "stdout",
       "text": [
        "65 994444\n"
       ]
      },
      {
       "output_type": "stream",
       "stream": "stdout",
       "text": [
        "66 745174\n"
       ]
      },
      {
       "output_type": "stream",
       "stream": "stdout",
       "text": [
        "bug_analysis error with bug 745174: changes_size not in bug_data\n",
        "67 1020219\n"
       ]
      },
      {
       "output_type": "stream",
       "stream": "stdout",
       "text": [
        "68 1001167\n"
       ]
      },
      {
       "output_type": "stream",
       "stream": "stderr",
       "text": [
        "-c:17: UserWarning: Revision b9ad5793fbba was not found.\n",
        "-c:25: UserWarning: Bug 1001167 doesn't have a uplift request date.\n"
       ]
      },
      {
       "output_type": "stream",
       "stream": "stdout",
       "text": [
        "69 809674\n"
       ]
      },
      {
       "output_type": "stream",
       "stream": "stdout",
       "text": [
        "70 727401\n"
       ]
      },
      {
       "output_type": "stream",
       "stream": "stdout",
       "text": [
        "71 686335\n"
       ]
      },
      {
       "output_type": "stream",
       "stream": "stdout",
       "text": [
        "72 790139\n"
       ]
      },
      {
       "output_type": "stream",
       "stream": "stderr",
       "text": [
        "-c:25: UserWarning: Bug 686335 doesn't have a uplift request date.\n",
        "-c:25: UserWarning: Bug 790139 doesn't have a uplift request date.\n"
       ]
      },
      {
       "output_type": "stream",
       "stream": "stdout",
       "text": [
        "73 901944\n"
       ]
      },
      {
       "output_type": "stream",
       "stream": "stdout",
       "text": [
        "74 718516\n"
       ]
      },
      {
       "output_type": "stream",
       "stream": "stdout",
       "text": [
        "75 1029098\n"
       ]
      },
      {
       "output_type": "stream",
       "stream": "stdout",
       "text": [
        "76 802557\n"
       ]
      },
      {
       "output_type": "stream",
       "stream": "stdout",
       "text": [
        "77 798045\n"
       ]
      },
      {
       "output_type": "stream",
       "stream": "stdout",
       "text": [
        "78 814554\n"
       ]
      },
      {
       "output_type": "stream",
       "stream": "stderr",
       "text": [
        "-c:17: UserWarning: Revision ad09eafd9bd4 is related to another bug (785630).\n",
        "-c:17: UserWarning: Revision a5d691072fd6 is related to another bug (785415).\n"
       ]
      },
      {
       "output_type": "stream",
       "stream": "stdout",
       "text": [
        "79 833594\n"
       ]
      },
      {
       "output_type": "stream",
       "stream": "stdout",
       "text": [
        "80 902532\n"
       ]
      },
      {
       "output_type": "stream",
       "stream": "stderr",
       "text": [
        "-c:17: UserWarning: Revision 84bdd96375ba was not found.\n",
        "-c:17: UserWarning: Revision f2d0107e85ec was not found.\n",
        "-c:17: UserWarning: Revision c6904473984e was not found.\n",
        "-c:17: UserWarning: Revision f9a17848125a was not found.\n",
        "-c:25: UserWarning: Bug 902532 doesn't have a uplift request date.\n"
       ]
      },
      {
       "output_type": "stream",
       "stream": "stdout",
       "text": [
        "81 830303\n"
       ]
      },
      {
       "output_type": "stream",
       "stream": "stdout",
       "text": [
        "82 718939\n"
       ]
      },
      {
       "output_type": "stream",
       "stream": "stderr",
       "text": [
        "-c:17: UserWarning: Revision b6f7fe8e2363 is related to another bug (753046).\n",
        "-c:17: UserWarning: Revision be3714af7869 is related to another bug (699691).\n"
       ]
      },
      {
       "output_type": "stream",
       "stream": "stderr",
       "text": [
        "-c:17: UserWarning: Revision 81dedcc49ac0 is related to another bug (616774).\n",
        "-c:17: UserWarning: Revision 82a297b0d0d3 was not found.\n"
       ]
      },
      {
       "output_type": "stream",
       "stream": "stderr",
       "text": [
        "-c:17: UserWarning: Revision bea7ecf9084e was not found.\n",
        "-c:25: UserWarning: Bug 718939 doesn't have a uplift request date.\n"
       ]
      },
      {
       "output_type": "stream",
       "stream": "stdout",
       "text": [
        "83 880377\n"
       ]
      },
      {
       "output_type": "stream",
       "stream": "stdout",
       "text": [
        "84 813264\n"
       ]
      },
      {
       "output_type": "stream",
       "stream": "stderr",
       "text": [
        "-c:17: UserWarning: Revision ee14945b452c is related to another bug (804676).\n",
        "-c:25: UserWarning: Bug 813264 doesn't have a uplift request date.\n"
       ]
      },
      {
       "output_type": "stream",
       "stream": "stdout",
       "text": [
        "85 843821\n"
       ]
      },
      {
       "output_type": "stream",
       "stream": "stdout",
       "text": [
        "86 731043\n"
       ]
      },
      {
       "output_type": "stream",
       "stream": "stdout",
       "text": [
        "87 765139\n"
       ]
      },
      {
       "output_type": "stream",
       "stream": "stderr",
       "text": [
        "-c:25: UserWarning: Bug 843821 doesn't have a uplift request date.\n",
        "-c:17: UserWarning: 00244ceddd42 looks like a backout, but we couldn't find which revision was backed out.\n"
       ]
      },
      {
       "output_type": "stream",
       "stream": "stdout",
       "text": [
        "88 815743\n"
       ]
      },
      {
       "output_type": "stream",
       "stream": "stderr",
       "text": [
        "-c:17: UserWarning: Revision 00244ceddd42 is related to another bug (733614).\n",
        "-c:17: UserWarning: Author ehsan@mozilla.com is not in the list of authors on Bugzilla.\n"
       ]
      },
      {
       "output_type": "stream",
       "stream": "stderr",
       "text": [
        "-c:17: UserWarning: d6130f6eeaca looks like a backout, but we couldn't find which revision was backed out.\n",
        "-c:17: UserWarning: Author dao+bmo@mozilla.com is not in the list of authors on Bugzilla.\n"
       ]
      },
      {
       "output_type": "stream",
       "stream": "stdout",
       "text": [
        "89 679509\n"
       ]
      },
      {
       "output_type": "stream",
       "stream": "stderr",
       "text": [
        "-c:17: UserWarning: 30cd23db6461 looks like a backout, but we couldn't find which revision was backed out.\n",
        "-c:17: UserWarning: Revision 6009974c1e1c is related to another bug (680164).\n"
       ]
      },
      {
       "output_type": "stream",
       "stream": "stdout",
       "text": [
        "90 852295\n"
       ]
      },
      {
       "output_type": "stream",
       "stream": "stdout",
       "text": [
        "91 872439\n"
       ]
      },
      {
       "output_type": "stream",
       "stream": "stdout",
       "text": [
        "92 814101\n"
       ]
      },
      {
       "output_type": "stream",
       "stream": "stdout",
       "text": [
        "93 817775\n"
       ]
      },
      {
       "output_type": "stream",
       "stream": "stderr",
       "text": [
        "-c:17: UserWarning: 40f077f9c4a2 looks like a backout, but we couldn't find which revision was backed out.\n",
        "-c:25: UserWarning: Bug 817775 doesn't have a uplift request date.\n"
       ]
      },
      {
       "output_type": "stream",
       "stream": "stdout",
       "text": [
        "94 765150\n"
       ]
      },
      {
       "output_type": "stream",
       "stream": "stdout",
       "text": [
        "95 848644\n"
       ]
      },
      {
       "output_type": "stream",
       "stream": "stdout",
       "text": [
        "96 712517\n"
       ]
      },
      {
       "output_type": "stream",
       "stream": "stderr",
       "text": [
        "-c:17: UserWarning: Revision d5abea9273a9 is related to another bug (796839).\n",
        "-c:17: UserWarning: Revision 7eb1a56eaaf1 is related to another bug (680818).\n"
       ]
      },
      {
       "output_type": "stream",
       "stream": "stdout",
       "text": [
        "97 718778\n"
       ]
      },
      {
       "output_type": "stream",
       "stream": "stdout",
       "text": [
        "Connection error:\n",
        "   url:  http://marco-ThinkPad-W541:8000//json-filelog?node=tip&revcount=4096&file=mozilla%2Fconfig.py\n",
        "   text:  \"mozilla/config.py@c9edfe35619f: non trovato nel manifesto\"\n",
        "Connection error:\n",
        "   url:  http://marco-ThinkPad-W541:8000//json-filelog?node=tip&revcount=4096&file=mozilla2%2Flinux-android-debug%2Faccessibility%2Fnightly%2Fmozconfig\n",
        "   text:  \"mozilla2/linux-android-debug/accessibility/nightly/mozconfig@c9edfe35619f: non trovato nel manifesto\"\n",
        "Connection error:\n",
        "   url:  http://marco-ThinkPad-W541:8000//json-filelog?node=tip&revcount=4096&file=mozilla2%2Flinux-android-debug%2Felectrolysis%2Fnightly%2Fmozconfig\n",
        "   text:  \"mozilla2/linux-android-debug/electrolysis/nightly/mozconfig@c9edfe35619f: non trovato nel manifesto\"\n",
        "Connection error:\n",
        "   url:  http://marco-ThinkPad-W541:8000//json-filelog?node=tip&revcount=4096&file=mozilla2%2Flinux-android-debug%2Fgeneric%2Fnightly%2Fmozconfig\n",
        "   text:  \"mozilla2/linux-android-debug/generic/nightly/mozconfig@c9edfe35619f: non trovato nel manifesto\"\n",
        "Connection error:\n",
        "   url:  http://marco-ThinkPad-W541:8000//json-filelog?node=tip&revcount=4096&file=mozilla2%2Flinux-android-debug%2Fjaegermonkey%2Fnightly%2Fmozconfig\n",
        "   text:  \"mozilla2/linux-android-debug/jaegermonkey/nightly/mozconfig@c9edfe35619f: non trovato nel manifesto\"\n",
        "Connection error:\n",
        "   url:  http://marco-ThinkPad-W541:8000//json-filelog?node=tip&revcount=4096&file=mozilla2%2Flinux-android-debug%2Fmozilla-aurora%2Fnightly%2Fmozconfig\n",
        "   text:  \"mozilla2/linux-android-debug/mozilla-aurora/nightly/mozconfig@c9edfe35619f: non trovato nel manifesto\"\n",
        "Connection error:\n",
        "   url:  http://marco-ThinkPad-W541:8000//json-filelog?node=tip&revcount=4096&file=mozilla2%2Flinux-android-debug%2Fmozilla-beta%2Fnightly%2Fmozconfig\n",
        "   text:  \"mozilla2/linux-android-debug/mozilla-beta/nightly/mozconfig@c9edfe35619f: non trovato nel manifesto\"\n",
        "Connection error:\n",
        "   url:  http://marco-ThinkPad-W541:8000//json-filelog?node=tip&revcount=4096&file=mozilla2%2Flinux-android-debug%2Fmozilla-central%2Fnightly%2Fmozconfig\n",
        "   text:  \"mozilla2/linux-android-debug/mozilla-central/nightly/mozconfig@c9edfe35619f: non trovato nel manifesto\"\n",
        "Connection error:\n",
        "   url:  http://marco-ThinkPad-W541:8000//json-filelog?node=tip&revcount=4096&file=mozilla2%2Flinux-android-debug%2Fmozilla-release%2Fnightly%2Fmozconfig\n",
        "   text:  \"mozilla2/linux-android-debug/mozilla-release/nightly/mozconfig@c9edfe35619f: non trovato nel manifesto\"\n",
        "Connection error:\n",
        "   url:  http://marco-ThinkPad-W541:8000//json-filelog?node=tip&revcount=4096&file=mozilla2%2Flinux-android-debug%2Fshadow-central%2Fnightly%2Fmozconfig\n",
        "   text:  \"mozilla2/linux-android-debug/shadow-central/nightly/mozconfig@c9edfe35619f: non trovato nel manifesto\"\n",
        "Connection error:\n",
        "   url:  http://marco-ThinkPad-W541:8000//json-filelog?node=tip&revcount=4096&file=mozilla2%2Flinux-android-debug%2Ftry%2Fnightly%2Fmozconfig\n",
        "   text:  \"mozilla2/linux-android-debug/try/nightly/mozconfig@c9edfe35619f: non trovato nel manifesto\"\n",
        "Connection error:\n",
        "   url:  http://marco-ThinkPad-W541:8000//json-filelog?node=tip&revcount=4096&file=mozilla2%2Flinux-android-debug%2Fux%2Fnightly%2Fmozconfig\n",
        "   text:  \"mozilla2/linux-android-debug/ux/nightly/mozconfig@c9edfe35619f: non trovato nel manifesto\"\n",
        "Connection error:\n",
        "   url:  http://marco-ThinkPad-W541:8000//json-filelog?node=tip&revcount=4096&file=config-dist.php\n",
        "   text:  \"config-dist.php@c9edfe35619f: non trovato nel manifesto\"\n",
        "Connection error:\n",
        "   url:  http://marco-ThinkPad-W541:8000//json-filelog?node=tip&revcount=4096&file=mozilla%2Frelease-firefox-mozilla-release.py\n",
        "   text:  \"mozilla/release-firefox-mozilla-release.py@c9edfe35619f: non trovato nel manifesto\"\n",
        "98 1003707"
       ]
      },
      {
       "output_type": "stream",
       "stream": "stdout",
       "text": [
        "\n"
       ]
      },
      {
       "output_type": "stream",
       "stream": "stderr",
       "text": [
        "-c:17: UserWarning: Revision b9085d8ca22e is related to another bug (987680).\n",
        "-c:17: UserWarning: Revision 7248b992c6b2 is related to another bug (991767).\n"
       ]
      },
      {
       "output_type": "stream",
       "stream": "stderr",
       "text": [
        "-c:17: UserWarning: Revision e2db1c06a933 is related to another bug (988713).\n",
        "-c:17: UserWarning: Revision 25306d89bded is related to another bug (989858).\n"
       ]
      },
      {
       "output_type": "stream",
       "stream": "stdout",
       "text": [
        "99 857355\n"
       ]
      },
      {
       "output_type": "stream",
       "stream": "stdout",
       "text": [
        "100 805788\n"
       ]
      },
      {
       "output_type": "stream",
       "stream": "stdout",
       "text": [
        "101 899702\n"
       ]
      },
      {
       "output_type": "stream",
       "stream": "stdout",
       "text": [
        "102 764546\n"
       ]
      },
      {
       "output_type": "stream",
       "stream": "stdout",
       "text": [
        "Connection error:\n",
        "   url:  http://marco-ThinkPad-W541:8000//json-filelog?node=tip&revcount=4096&file=dom%2Finterfaces%2Fbase%2FnsIDOMWindow_globalStorage.idl\n",
        "   text:  \"dom/interfaces/base/nsIDOMWindow_globalStorage.idl@c9edfe35619f: non trovato nel manifesto\"\n",
        "103 774618"
       ]
      },
      {
       "output_type": "stream",
       "stream": "stdout",
       "text": [
        "\n"
       ]
      },
      {
       "output_type": "stream",
       "stream": "stderr",
       "text": [
        "-c:25: UserWarning: Bug 1003707 doesn't have a uplift request date.\n",
        "-c:17: UserWarning: Revision ca6044e25cd2 is related to another bug (803181).\n"
       ]
      },
      {
       "output_type": "stream",
       "stream": "stdout",
       "text": [
        "104 831805\n"
       ]
      },
      {
       "output_type": "stream",
       "stream": "stdout",
       "text": [
        "105 725069\n"
       ]
      },
      {
       "output_type": "stream",
       "stream": "stderr",
       "text": [
        "-c:17: UserWarning: Revision a86a80a91234 is related to another bug (695450).\n",
        "-c:17: UserWarning: Revision cb1c23bd837b is related to another bug (695213).\n"
       ]
      },
      {
       "output_type": "stream",
       "stream": "stdout",
       "text": [
        "106 940714\n"
       ]
      },
      {
       "output_type": "stream",
       "stream": "stdout",
       "text": [
        "107 732963\n"
       ]
      },
      {
       "output_type": "stream",
       "stream": "stdout",
       "text": [
        "108 1018783\n"
       ]
      },
      {
       "output_type": "stream",
       "stream": "stdout",
       "text": [
        "109 983344\n"
       ]
      },
      {
       "output_type": "stream",
       "stream": "stderr",
       "text": [
        "-c:17: UserWarning: Revision 9fa62f76f1cf is related to another bug (694963).\n",
        "-c:17: UserWarning: Revision 03355461606c is related to another bug (975456).\n"
       ]
      },
      {
       "output_type": "stream",
       "stream": "stdout",
       "text": [
        "110 842334\n"
       ]
      },
      {
       "output_type": "stream",
       "stream": "stdout",
       "text": [
        "111 1008603\n"
       ]
      },
      {
       "output_type": "stream",
       "stream": "stdout",
       "text": [
        "112 834681\n"
       ]
      },
      {
       "output_type": "stream",
       "stream": "stderr",
       "text": [
        "-c:25: UserWarning: Bug 983344 doesn't have a uplift request date.\n",
        "-c:17: UserWarning: Revision 9aadf7e35e70 was not found.\n"
       ]
      },
      {
       "output_type": "stream",
       "stream": "stdout",
       "text": [
        "113 700583\n"
       ]
      },
      {
       "output_type": "stream",
       "stream": "stderr",
       "text": [
        "-c:25: UserWarning: Bug 834681 doesn't have a uplift request date.\n",
        "-c:17: UserWarning: Reviewer jocheng@mozilla.com is not in the list of reviewers on Bugzilla.\n"
       ]
      },
      {
       "output_type": "stream",
       "stream": "stdout",
       "text": [
        "114 857291\n"
       ]
      },
      {
       "output_type": "stream",
       "stream": "stderr",
       "text": [
        "-c:25: UserWarning: Bug 700583 doesn't have a uplift request date.\n",
        "-c:17: UserWarning: Revision 7f5fad93ef78 is related to another bug (807678).\n"
       ]
      },
      {
       "output_type": "stream",
       "stream": "stderr",
       "text": [
        "-c:17: UserWarning: Revision 959f9da9f85e is related to another bug (767158).\n",
        "-c:17: UserWarning: 4a1188e7f538 looks like a backout, but we couldn't find which revision was backed out.\n"
       ]
      },
      {
       "output_type": "stream",
       "stream": "stdout",
       "text": [
        "115 681930\n"
       ]
      },
      {
       "output_type": "stream",
       "stream": "stdout",
       "text": [
        "116 701262\n"
       ]
      },
      {
       "output_type": "stream",
       "stream": "stderr",
       "text": [
        "-c:17: UserWarning: Revision 4a1188e7f538 is related to another bug (804605).\n",
        "-c:17: UserWarning: Revision 944c450fc328 is related to another bug (670900).\n"
       ]
      },
      {
       "output_type": "stream",
       "stream": "stdout",
       "text": [
        "117 787743\n"
       ]
      },
      {
       "output_type": "stream",
       "stream": "stdout",
       "text": [
        "118 1038997\n"
       ]
      },
      {
       "output_type": "stream",
       "stream": "stdout",
       "text": [
        "119 839745\n"
       ]
      },
      {
       "output_type": "stream",
       "stream": "stdout",
       "text": [
        "120 901527\n"
       ]
      },
      {
       "output_type": "stream",
       "stream": "stdout",
       "text": [
        "121 836838\n"
       ]
      },
      {
       "output_type": "stream",
       "stream": "stderr",
       "text": [
        "-c:17: UserWarning: Revision 0e92b352474b is related to another bug (722845).\n",
        "-c:25: UserWarning: Bug 836838 doesn't have a uplift request date.\n"
       ]
      },
      {
       "output_type": "stream",
       "stream": "stdout",
       "text": [
        "122 733614\n"
       ]
      },
      {
       "output_type": "stream",
       "stream": "stderr",
       "text": [
        "-c:17: UserWarning: Revision 6f4f2e53694b is related to another bug (703434).\n",
        "-c:17: UserWarning: aeaa00b5cab5 looks like a backout, but we couldn't find which revision was backed out.\n"
       ]
      },
      {
       "output_type": "stream",
       "stream": "stdout",
       "text": [
        "123 963621\n"
       ]
      },
      {
       "output_type": "stream",
       "stream": "stderr",
       "text": [
        "-c:17: UserWarning: Revision 4730eb3ec77a was not found.\n",
        "-c:17: UserWarning: Reviewer doublec could not be found.\n"
       ]
      },
      {
       "output_type": "stream",
       "stream": "stdout",
       "text": [
        "124 838603\n"
       ]
      },
      {
       "output_type": "stream",
       "stream": "stdout",
       "text": [
        "125 667592\n"
       ]
      },
      {
       "output_type": "stream",
       "stream": "stdout",
       "text": [
        "126 982957\n"
       ]
      },
      {
       "output_type": "stream",
       "stream": "stdout",
       "text": [
        "127 687220\n"
       ]
      },
      {
       "output_type": "stream",
       "stream": "stdout",
       "text": [
        "128 883254\n"
       ]
      },
      {
       "output_type": "stream",
       "stream": "stdout",
       "text": [
        "129 899022\n"
       ]
      },
      {
       "output_type": "stream",
       "stream": "stdout",
       "text": [
        "130 728623\n"
       ]
      },
      {
       "output_type": "stream",
       "stream": "stderr",
       "text": [
        "-c:17: UserWarning: Revision 56d9e75b36b4 is related to another bug (966040).\n",
        "-c:17: UserWarning: Revision d45c7d7b0079 is related to another bug (725848).\n"
       ]
      },
      {
       "output_type": "stream",
       "stream": "stdout",
       "text": [
        "131 858561\n"
       ]
      },
      {
       "output_type": "stream",
       "stream": "stderr",
       "text": [
        "-c:17: UserWarning: Revision 9e93f190f64c is related to another bug (700822).\n",
        "-c:25: UserWarning: Bug 858561 doesn't have a uplift request date.\n"
       ]
      },
      {
       "output_type": "stream",
       "stream": "stdout",
       "text": [
        "132 869406\n"
       ]
      },
      {
       "output_type": "stream",
       "stream": "stdout",
       "text": [
        "133 738349\n"
       ]
      },
      {
       "output_type": "stream",
       "stream": "stdout",
       "text": [
        "134 719612\n"
       ]
      },
      {
       "output_type": "stream",
       "stream": "stdout",
       "text": [
        "135 846848\n"
       ]
      },
      {
       "output_type": "stream",
       "stream": "stdout",
       "text": [
        "136 720619\n"
       ]
      },
      {
       "output_type": "stream",
       "stream": "stdout",
       "text": [
        "137 935568\n"
       ]
      },
      {
       "output_type": "stream",
       "stream": "stderr",
       "text": [
        "-c:25: UserWarning: Bug 720619 doesn't have a uplift request date.\n",
        "-c:17: UserWarning: Reviewer brian@briansmith.org is not in the list of reviewers on Bugzilla.\n"
       ]
      },
      {
       "output_type": "stream",
       "stream": "stdout",
       "text": [
        "138 904598\n"
       ]
      },
      {
       "output_type": "stream",
       "stream": "stderr",
       "text": [
        "-c:17: UserWarning: Revision 6eb4d1008076 is related to another bug (905150).\n",
        "-c:25: UserWarning: Bug 904598 doesn't have a uplift request date.\n"
       ]
      },
      {
       "output_type": "stream",
       "stream": "stdout",
       "text": [
        "139 765172\n"
       ]
      },
      {
       "output_type": "stream",
       "stream": "stdout",
       "text": [
        "140 917595\n"
       ]
      },
      {
       "output_type": "stream",
       "stream": "stdout",
       "text": [
        "141 825498\n"
       ]
      },
      {
       "output_type": "stream",
       "stream": "stdout",
       "text": [
        "142 611648\n"
       ]
      },
      {
       "output_type": "stream",
       "stream": "stdout",
       "text": [
        "143 879924\n"
       ]
      },
      {
       "output_type": "stream",
       "stream": "stdout",
       "text": [
        "144 872351\n"
       ]
      },
      {
       "output_type": "stream",
       "stream": "stdout",
       "text": [
        "145 982909\n"
       ]
      },
      {
       "output_type": "stream",
       "stream": "stdout",
       "text": [
        "146 839117\n"
       ]
      },
      {
       "output_type": "stream",
       "stream": "stdout",
       "text": [
        "147 744836\n"
       ]
      },
      {
       "output_type": "stream",
       "stream": "stdout",
       "text": [
        "148 755339\n"
       ]
      },
      {
       "output_type": "stream",
       "stream": "stdout",
       "text": [
        "bug_analysis error with bug 755339: changes_size too small\n",
        "149 829646\n"
       ]
      },
      {
       "output_type": "stream",
       "stream": "stdout",
       "text": [
        "150 683280\n"
       ]
      },
      {
       "output_type": "stream",
       "stream": "stderr",
       "text": [
        "-c:25: UserWarning: Bug 982909 doesn't have a uplift request date.\n",
        "-c:17: UserWarning: Revision c5a9a439d72c was not found.\n"
       ]
      },
      {
       "output_type": "stream",
       "stream": "stdout",
       "text": [
        "151 680802\n"
       ]
      },
      {
       "output_type": "stream",
       "stream": "stderr",
       "text": [
        "-c:17: UserWarning: Revision 58d026601240 was not found.\n",
        "-c:17: UserWarning: Reviewer robstrong could not be found.\n"
       ]
      },
      {
       "output_type": "stream",
       "stream": "stdout",
       "text": [
        "152 1030426\n"
       ]
      },
      {
       "output_type": "stream",
       "stream": "stdout",
       "text": [
        "153 756786\n"
       ]
      },
      {
       "output_type": "stream",
       "stream": "stderr",
       "text": [
        "-c:25: UserWarning: Bug 680802 doesn't have a uplift request date.\n",
        "-c:17: UserWarning: Revision eecd3aa199e6 was not found.\n"
       ]
      },
      {
       "output_type": "stream",
       "stream": "stdout",
       "text": [
        "154 1023748\n"
       ]
      },
      {
       "output_type": "stream",
       "stream": "stdout",
       "text": [
        "155 623462\n"
       ]
      },
      {
       "output_type": "stream",
       "stream": "stdout",
       "text": [
        "156 821502\n"
       ]
      },
      {
       "output_type": "stream",
       "stream": "stdout",
       "text": [
        "157 699134\n"
       ]
      },
      {
       "output_type": "stream",
       "stream": "stdout",
       "text": [
        "158 734704\n"
       ]
      },
      {
       "output_type": "stream",
       "stream": "stdout",
       "text": [
        "159 846986\n"
       ]
      },
      {
       "output_type": "stream",
       "stream": "stdout",
       "text": [
        "bug_analysis error with bug 846986: Too many matching authors (jwalden+bmo@mit.edu, anarchy@gentoo.org) found for jwalden@mit.edu\n",
        "160 814434\n"
       ]
      },
      {
       "output_type": "stream",
       "stream": "stdout",
       "text": [
        "161 825620\n"
       ]
      },
      {
       "output_type": "stream",
       "stream": "stdout",
       "text": [
        "162 803583\n"
       ]
      },
      {
       "output_type": "stream",
       "stream": "stderr",
       "text": [
        "-c:17: UserWarning: Author jwalden+bmo@mit.edu is not in the list of authors on Bugzilla.\n",
        "-c:25: UserWarning: Bug 803583 doesn't have a uplift request date.\n"
       ]
      },
      {
       "output_type": "stream",
       "stream": "stdout",
       "text": [
        "163 888107\n"
       ]
      },
      {
       "output_type": "stream",
       "stream": "stdout",
       "text": [
        "164 1037147\n"
       ]
      },
      {
       "output_type": "stream",
       "stream": "stdout",
       "text": [
        "165 789958\n"
       ]
      },
      {
       "output_type": "stream",
       "stream": "stdout",
       "text": [
        "166 927901\n"
       ]
      },
      {
       "output_type": "stream",
       "stream": "stderr",
       "text": [
        "-c:17: UserWarning: Revision a568cdcd510d is related to another bug (505120).\n",
        "-c:17: UserWarning: Revision 1ae5d58532ad was not found.\n"
       ]
      },
      {
       "output_type": "stream",
       "stream": "stdout",
       "text": [
        "167 996715\n"
       ]
      },
      {
       "output_type": "stream",
       "stream": "stdout",
       "text": [
        "168 818468\n"
       ]
      },
      {
       "output_type": "stream",
       "stream": "stdout",
       "text": [
        "169 828632\n"
       ]
      },
      {
       "output_type": "stream",
       "stream": "stdout",
       "text": [
        "170 756850\n"
       ]
      },
      {
       "output_type": "stream",
       "stream": "stderr",
       "text": [
        "-c:25: UserWarning: Bug 927901 doesn't have a uplift request date.\n",
        "-c:25: UserWarning: Bug 756850 doesn't have a uplift request date.\n"
       ]
      },
      {
       "output_type": "stream",
       "stream": "stdout",
       "text": [
        "171 791943\n"
       ]
      },
      {
       "output_type": "stream",
       "stream": "stdout",
       "text": [
        "172 937005\n"
       ]
      },
      {
       "output_type": "stream",
       "stream": "stdout",
       "text": [
        "173 1013922\n"
       ]
      },
      {
       "output_type": "stream",
       "stream": "stdout",
       "text": [
        "174 704693\n"
       ]
      },
      {
       "output_type": "stream",
       "stream": "stdout",
       "text": [
        "175 764758\n"
       ]
      },
      {
       "output_type": "stream",
       "stream": "stderr",
       "text": [
        "-c:25: UserWarning: Bug 937005 doesn't have a uplift request date.\n",
        "-c:17: UserWarning: Revision 10b04214089d is related to another bug (744710).\n"
       ]
      },
      {
       "output_type": "stream",
       "stream": "stdout",
       "text": [
        "176 692260\n"
       ]
      },
      {
       "output_type": "stream",
       "stream": "stdout",
       "text": [
        "177 747683\n"
       ]
      },
      {
       "output_type": "stream",
       "stream": "stdout",
       "text": [
        "178 811763\n"
       ]
      },
      {
       "output_type": "stream",
       "stream": "stderr",
       "text": [
        "-c:17: UserWarning: Revision f2b089df69b3 is related to another bug (744719).\n",
        "-c:25: UserWarning: Bug 811763 doesn't have a uplift request date.\n"
       ]
      },
      {
       "output_type": "stream",
       "stream": "stdout",
       "text": [
        "179 785967\n"
       ]
      },
      {
       "output_type": "stream",
       "stream": "stdout",
       "text": [
        "180 779413\n"
       ]
      },
      {
       "output_type": "stream",
       "stream": "stdout",
       "text": [
        "181 815359\n"
       ]
      },
      {
       "output_type": "stream",
       "stream": "stdout",
       "text": [
        "182 951776\n"
       ]
      },
      {
       "output_type": "stream",
       "stream": "stdout",
       "text": [
        "183 669792\n"
       ]
      },
      {
       "output_type": "stream",
       "stream": "stderr",
       "text": [
        "-c:17: UserWarning: Revision 88e47f6905e9 is related to another bug (579517).\n",
        "-c:17: UserWarning: Author gerv@mozilla.org is not in the list of authors on Bugzilla.\n"
       ]
      },
      {
       "output_type": "stream",
       "stream": "stdout",
       "text": [
        "184 1009465\n"
       ]
      },
      {
       "output_type": "stream",
       "stream": "stderr",
       "text": [
        "-c:17: UserWarning: ca43cd65708b looks like a backout, but we couldn't find which revision was backed out.\n",
        "-c:17: UserWarning: Revision ca43cd65708b is related to another bug (877160).\n",
        "-c:17: UserWarning: Author mmc.bugzilla@gmail.com is not in the list of authors on Bugzilla.\n"
       ]
      },
      {
       "output_type": "stream",
       "stream": "stdout",
       "text": [
        "bug_analysis error with bug 1009465: Too many matching authors (mmc.bugzilla@gmail.com, sahukariganesh2@gmail.com) found for mmc@mozilla.com\n",
        "185 981325\n"
       ]
      },
      {
       "output_type": "stream",
       "stream": "stderr",
       "text": [
        "-c:25: UserWarning: Bug 1009465 doesn't have a uplift request date.\n",
        "-c:17: UserWarning: Revision 39bfcadd6492 is related to another bug (942105).\n"
       ]
      },
      {
       "output_type": "stream",
       "stream": "stdout",
       "text": [
        "186 959119\n"
       ]
      },
      {
       "output_type": "stream",
       "stream": "stdout",
       "text": [
        "187 769893\n"
       ]
      },
      {
       "output_type": "stream",
       "stream": "stderr",
       "text": [
        "-c:17: UserWarning: Revision e31629cfa31c is related to another bug (937391).\n",
        "-c:25: UserWarning: Bug 769893 doesn't have a uplift request date.\n"
       ]
      },
      {
       "output_type": "stream",
       "stream": "stdout",
       "text": [
        "188 780668\n"
       ]
      },
      {
       "output_type": "stream",
       "stream": "stdout",
       "text": [
        "189 732962\n"
       ]
      },
      {
       "output_type": "stream",
       "stream": "stdout",
       "text": [
        "190 987867\n"
       ]
      },
      {
       "output_type": "stream",
       "stream": "stdout",
       "text": [
        "191 769894\n"
       ]
      },
      {
       "output_type": "stream",
       "stream": "stdout",
       "text": [
        "192 935959\n"
       ]
      },
      {
       "output_type": "stream",
       "stream": "stdout",
       "text": [
        "193 785200\n"
       ]
      },
      {
       "output_type": "stream",
       "stream": "stdout",
       "text": [
        "194 1025576\n"
       ]
      },
      {
       "output_type": "stream",
       "stream": "stdout",
       "text": [
        "195 813897\n"
       ]
      },
      {
       "output_type": "stream",
       "stream": "stdout",
       "text": [
        "196 1005074\n"
       ]
      },
      {
       "output_type": "stream",
       "stream": "stdout",
       "text": [
        "197 982906\n"
       ]
      },
      {
       "output_type": "stream",
       "stream": "stderr",
       "text": [
        "-c:17: UserWarning: Revision 9980650215af is related to another bug (790180).\n",
        "-c:25: UserWarning: Bug 982906 doesn't have a uplift request date.\n"
       ]
      },
      {
       "output_type": "stream",
       "stream": "stdout",
       "text": [
        "198 1042889\n"
       ]
      },
      {
       "output_type": "stream",
       "stream": "stdout",
       "text": [
        "199 814026\n"
       ]
      },
      {
       "output_type": "stream",
       "stream": "stdout",
       "text": [
        "200 1130052\n"
       ]
      },
      {
       "output_type": "stream",
       "stream": "stdout",
       "text": [
        "201 1059674\n"
       ]
      },
      {
       "output_type": "stream",
       "stream": "stdout",
       "text": [
        "202 1110229\n"
       ]
      },
      {
       "output_type": "stream",
       "stream": "stdout",
       "text": [
        "203 1154518\n"
       ]
      },
      {
       "output_type": "stream",
       "stream": "stderr",
       "text": [
        "-c:25: UserWarning: Bug 1110229 doesn't have a uplift request date.\n",
        "-c:25: UserWarning: Bug 1154518 doesn't have a uplift request date.\n"
       ]
      },
      {
       "output_type": "stream",
       "stream": "stdout",
       "text": [
        "204 1155521\n"
       ]
      },
      {
       "output_type": "stream",
       "stream": "stderr",
       "text": [
        "-c:17: UserWarning: Revision bd024cf6af34 is related to another bug (934032).\n",
        "-c:17: UserWarning: Author gijskruitbosch@gmail.com could not be found.\n"
       ]
      },
      {
       "output_type": "stream",
       "stream": "stdout",
       "text": [
        "205 1103375\n"
       ]
      },
      {
       "output_type": "stream",
       "stream": "stdout",
       "text": [
        "206 1142459\n"
       ]
      },
      {
       "output_type": "stream",
       "stream": "stdout",
       "text": [
        "207 1088729\n"
       ]
      },
      {
       "output_type": "stream",
       "stream": "stdout",
       "text": [
        "208 1157784\n"
       ]
      },
      {
       "output_type": "stream",
       "stream": "stderr",
       "text": [
        "-c:25: UserWarning: Bug 1155521 doesn't have a uplift request date.\n",
        "-c:25: UserWarning: Bug 1157784 doesn't have a uplift request date.\n"
       ]
      },
      {
       "output_type": "stream",
       "stream": "stdout",
       "text": [
        "209 1161317\n"
       ]
      },
      {
       "output_type": "stream",
       "stream": "stdout",
       "text": [
        "210 1105284\n"
       ]
      },
      {
       "output_type": "stream",
       "stream": "stdout",
       "text": [
        "211 1159814\n"
       ]
      },
      {
       "output_type": "stream",
       "stream": "stdout",
       "text": [
        "212 1155517\n"
       ]
      },
      {
       "output_type": "stream",
       "stream": "stdout",
       "text": [
        "213 1156058\n"
       ]
      },
      {
       "output_type": "stream",
       "stream": "stdout",
       "text": [
        "214 1087182\n"
       ]
      },
      {
       "output_type": "stream",
       "stream": "stdout",
       "text": [
        "215 1076910\n"
       ]
      },
      {
       "output_type": "stream",
       "stream": "stdout",
       "text": [
        "216 1083071\n"
       ]
      },
      {
       "output_type": "stream",
       "stream": "stderr",
       "text": [
        "-c:25: UserWarning: Bug 1161317 doesn't have a uplift request date.\n",
        "-c:17: UserWarning: Author ryanvm@gmail.com is not in the list of authors on Bugzilla.\n"
       ]
      },
      {
       "output_type": "stream",
       "stream": "stdout",
       "text": [
        "217 1160295\n"
       ]
      },
      {
       "output_type": "stream",
       "stream": "stdout",
       "text": [
        "218 1125445\n"
       ]
      },
      {
       "output_type": "stream",
       "stream": "stdout",
       "text": [
        "219 1064107\n"
       ]
      },
      {
       "output_type": "stream",
       "stream": "stderr",
       "text": [
        "-c:17: UserWarning: 6b733d690a38 looks like a backout, but we couldn't find which revision was backed out.\n",
        "-c:25: UserWarning: Bug 1064107 doesn't have a uplift request date.\n"
       ]
      },
      {
       "output_type": "stream",
       "stream": "stdout",
       "text": [
        "220 1109465\n"
       ]
      },
      {
       "output_type": "stream",
       "stream": "stderr",
       "text": [
        "-c:17: UserWarning: Revision e0461ce2e137 is related to another bug (826657).\n",
        "-c:17: UserWarning: Revision 8e47222be374 is related to another bug (1056166).\n"
       ]
      },
      {
       "output_type": "stream",
       "stream": "stdout",
       "text": [
        "221 1158960\n"
       ]
      },
      {
       "output_type": "stream",
       "stream": "stdout",
       "text": [
        "222 1151821\n"
       ]
      },
      {
       "output_type": "stream",
       "stream": "stderr",
       "text": [
        "-c:25: UserWarning: Bug 1158960 doesn't have a uplift request date.\n",
        "-c:25: UserWarning: Bug 1151821 doesn't have a uplift request date.\n"
       ]
      },
      {
       "output_type": "stream",
       "stream": "stdout",
       "text": [
        "223 1075640\n"
       ]
      },
      {
       "output_type": "stream",
       "stream": "stdout",
       "text": [
        "224 1159495\n"
       ]
      },
      {
       "output_type": "stream",
       "stream": "stdout",
       "text": [
        "225 1089183\n"
       ]
      },
      {
       "output_type": "stream",
       "stream": "stdout",
       "text": [
        "226 1159826\n"
       ]
      },
      {
       "output_type": "stream",
       "stream": "stderr",
       "text": [
        "-c:17: UserWarning: Reviewer whitespace could not be found.\n",
        "-c:25: UserWarning: Bug 1159826 doesn't have a uplift request date.\n"
       ]
      },
      {
       "output_type": "stream",
       "stream": "stdout",
       "text": [
        "227 1141642\n"
       ]
      },
      {
       "output_type": "stream",
       "stream": "stdout",
       "text": [
        "228 1155518\n"
       ]
      },
      {
       "output_type": "stream",
       "stream": "stdout",
       "text": [
        "229 1160578\n"
       ]
      },
      {
       "output_type": "stream",
       "stream": "stderr",
       "text": [
        "-c:25: UserWarning: Bug 1155518 doesn't have a uplift request date.\n",
        "-c:25: UserWarning: Bug 1160578 doesn't have a uplift request date.\n"
       ]
      },
      {
       "output_type": "stream",
       "stream": "stdout",
       "text": [
        "230 1158184\n"
       ]
      },
      {
       "output_type": "stream",
       "stream": "stdout",
       "text": [
        "231 1153790\n"
       ]
      },
      {
       "output_type": "stream",
       "stream": "stdout",
       "text": [
        "232 1152972\n"
       ]
      },
      {
       "output_type": "stream",
       "stream": "stdout",
       "text": [
        "233 1074135\n"
       ]
      },
      {
       "output_type": "stream",
       "stream": "stdout",
       "text": [
        "234 1158228\n"
       ]
      },
      {
       "output_type": "stream",
       "stream": "stderr",
       "text": [
        "-c:17: UserWarning: Author margaret.leibovic@gmail.com could not be found.\n",
        "-c:25: UserWarning: Bug 1158228 doesn't have a uplift request date.\n"
       ]
      },
      {
       "output_type": "stream",
       "stream": "stdout",
       "text": [
        "235 1145230\n"
       ]
      },
      {
       "output_type": "stream",
       "stream": "stdout",
       "text": [
        "236 1122367\n"
       ]
      },
      {
       "output_type": "stream",
       "stream": "stdout",
       "text": [
        "237 1066934\n"
       ]
      },
      {
       "output_type": "stream",
       "stream": "stderr",
       "text": [
        "-c:17: UserWarning: Revision fb7aec714906 is related to another bug (458634).\n",
        "-c:17: UserWarning: Revision a0586a5ec2da is related to another bug (1009679).\n"
       ]
      },
      {
       "output_type": "stream",
       "stream": "stdout",
       "text": [
        "238 1104846\n"
       ]
      },
      {
       "output_type": "stream",
       "stream": "stdout",
       "text": [
        "239 1159300\n"
       ]
      },
      {
       "output_type": "stream",
       "stream": "stdout",
       "text": [
        "240 1049435\n"
       ]
      },
      {
       "output_type": "stream",
       "stream": "stdout",
       "text": [
        "Connection error:\n",
        "   url:  http://marco-ThinkPad-W541:8000//json-filelog?node=tip&revcount=4096&file=lib%2Ffreebl%2Frsa.c\n",
        "   text:  \"lib/freebl/rsa.c@c9edfe35619f: non trovato nel manifesto\"\n",
        "241 1133119"
       ]
      },
      {
       "output_type": "stream",
       "stream": "stdout",
       "text": [
        "\n"
       ]
      },
      {
       "output_type": "stream",
       "stream": "stderr",
       "text": [
        "-c:17: UserWarning: Revision bc04a1b51cb6 is related to another bug (1075686).\n",
        "-c:25: UserWarning: Bug 1133119 doesn't have a uplift request date.\n"
       ]
      },
      {
       "output_type": "stream",
       "stream": "stdout",
       "text": [
        "242 1130061\n"
       ]
      },
      {
       "output_type": "stream",
       "stream": "stdout",
       "text": [
        "243 1093983\n"
       ]
      },
      {
       "output_type": "stream",
       "stream": "stderr",
       "text": [
        "-c:25: UserWarning: Bug 1130061 doesn't have a uplift request date.\n",
        "-c:17: UserWarning: Reviewer mcmanus@ducksong.com is not in the list of reviewers on Bugzilla.\n"
       ]
      },
      {
       "output_type": "stream",
       "stream": "stdout",
       "text": [
        "244 1137580\n"
       ]
      },
      {
       "output_type": "stream",
       "stream": "stdout",
       "text": [
        "245 1150539\n"
       ]
      },
      {
       "output_type": "stream",
       "stream": "stdout",
       "text": [
        "246 1160663\n"
       ]
      },
      {
       "output_type": "stream",
       "stream": "stdout",
       "text": [
        "247 1087674\n"
       ]
      },
      {
       "output_type": "stream",
       "stream": "stderr",
       "text": [
        "-c:25: UserWarning: Bug 1150539 doesn't have a uplift request date.\n",
        "-c:17: UserWarning: Revision 89073e734ebb is related to another bug (1034138).\n"
       ]
      },
      {
       "output_type": "stream",
       "stream": "stdout",
       "text": [
        "248 1125952\n"
       ]
      },
      {
       "output_type": "stream",
       "stream": "stdout",
       "text": [
        "249 1093694\n"
       ]
      },
      {
       "output_type": "stream",
       "stream": "stdout",
       "text": [
        "250 1148328\n"
       ]
      },
      {
       "output_type": "stream",
       "stream": "stdout",
       "text": [
        "251 1105590\n"
       ]
      },
      {
       "output_type": "stream",
       "stream": "stdout",
       "text": [
        "252 1158884\n"
       ]
      },
      {
       "output_type": "stream",
       "stream": "stderr",
       "text": [
        "-c:17: UserWarning: Revision 0f1b0d6b870c is related to another bug (1043644).\n",
        "-c:25: UserWarning: Bug 1158884 doesn't have a uplift request date.\n"
       ]
      },
      {
       "output_type": "stream",
       "stream": "stdout",
       "text": [
        "253 1100501\n"
       ]
      },
      {
       "output_type": "stream",
       "stream": "stdout",
       "text": [
        "254 1154703\n"
       ]
      },
      {
       "output_type": "stream",
       "stream": "stdout",
       "text": [
        "bug_analysis error with bug 1154703: Too many matching authors (dmajor@bugmail.cc, jmuizelaar@mozilla.com) found for jmuizelaar@mozilla.com\n",
        "255 1138070\n"
       ]
      },
      {
       "output_type": "stream",
       "stream": "stdout",
       "text": [
        "256 1136616\n"
       ]
      },
      {
       "output_type": "stream",
       "stream": "stdout",
       "text": [
        "257 1127925\n"
       ]
      },
      {
       "output_type": "stream",
       "stream": "stderr",
       "text": [
        "-c:17: UserWarning: Author jmuizelaar@mozilla.com is not in the list of authors on Bugzilla.\n",
        "-c:25: UserWarning: Bug 1127925 doesn't have a uplift request date.\n"
       ]
      },
      {
       "output_type": "stream",
       "stream": "stdout",
       "text": [
        "258 1082051\n"
       ]
      },
      {
       "output_type": "stream",
       "stream": "stdout",
       "text": [
        "259 1159744\n"
       ]
      },
      {
       "output_type": "stream",
       "stream": "stdout",
       "text": [
        "260 1151361\n"
       ]
      },
      {
       "output_type": "stream",
       "stream": "stderr",
       "text": [
        "-c:25: UserWarning: Bug 1159744 doesn't have a uplift request date.\n",
        "-c:17: UserWarning: Reviewer jmuizelaar@mozilla.com is not in the list of reviewers on Bugzilla.\n"
       ]
      },
      {
       "output_type": "stream",
       "stream": "stdout",
       "text": [
        "261 1140890\n"
       ]
      },
      {
       "output_type": "stream",
       "stream": "stderr",
       "text": [
        "-c:17: UserWarning: Revision 65aea1c559fd is related to another bug (1124002).\n",
        "-c:25: UserWarning: Bug 1140890 doesn't have a uplift request date.\n"
       ]
      },
      {
       "output_type": "stream",
       "stream": "stdout",
       "text": [
        "262 1046645\n"
       ]
      },
      {
       "output_type": "stream",
       "stream": "stderr",
       "text": [
        "-c:17: UserWarning: Revision 9f810f13f251 is related to another bug (993901).\n",
        "-c:17: UserWarning: Revision c3b86a5d52b6 is related to another bug (973532).\n"
       ]
      },
      {
       "output_type": "stream",
       "stream": "stdout",
       "text": [
        "263 1073775\n"
       ]
      },
      {
       "output_type": "stream",
       "stream": "stdout",
       "text": [
        "264 1128170\n"
       ]
      },
      {
       "output_type": "stream",
       "stream": "stdout",
       "text": [
        "265 1079858\n"
       ]
      },
      {
       "output_type": "stream",
       "stream": "stderr",
       "text": [
        "-c:25: UserWarning: Bug 1128170 doesn't have a uplift request date.\n",
        "-c:25: UserWarning: Bug 1079858 doesn't have a uplift request date.\n"
       ]
      },
      {
       "output_type": "stream",
       "stream": "stdout",
       "text": [
        "266 1110760\n"
       ]
      },
      {
       "output_type": "stream",
       "stream": "stdout",
       "text": [
        "267 1158761\n"
       ]
      },
      {
       "output_type": "stream",
       "stream": "stdout",
       "text": [
        "268 1147857\n"
       ]
      },
      {
       "output_type": "stream",
       "stream": "stdout",
       "text": [
        "269 1076983\n"
       ]
      },
      {
       "output_type": "stream",
       "stream": "stdout",
       "text": [
        "270 1147992\n"
       ]
      },
      {
       "output_type": "stream",
       "stream": "stdout",
       "text": [
        "271 1073910\n"
       ]
      },
      {
       "output_type": "stream",
       "stream": "stderr",
       "text": [
        "-c:17: UserWarning: Revision 74861ffc991f is related to another bug (1104711).\n",
        "-c:17: UserWarning: Revision e8558ecd9b16 is related to another bug (1031529).\n"
       ]
      },
      {
       "output_type": "stream",
       "stream": "stdout",
       "text": [
        "272 1151862\n"
       ]
      },
      {
       "output_type": "stream",
       "stream": "stderr",
       "text": [
        "-c:17: UserWarning: Revision 5ad5f92387a2 is related to another bug (998596).\n",
        "-c:25: UserWarning: Bug 1151862 doesn't have a uplift request date.\n"
       ]
      },
      {
       "output_type": "stream",
       "stream": "stdout",
       "text": [
        "273 1155523\n"
       ]
      },
      {
       "output_type": "stream",
       "stream": "stdout",
       "text": [
        "274 1108971\n"
       ]
      },
      {
       "output_type": "stream",
       "stream": "stderr",
       "text": [
        "-c:25: UserWarning: Bug 1155523 doesn't have a uplift request date.\n",
        "-c:17: UserWarning: Revision 4d21e0728967 is related to another bug (1067679).\n"
       ]
      },
      {
       "output_type": "stream",
       "stream": "stdout",
       "text": [
        "275 1159321\n"
       ]
      },
      {
       "output_type": "stream",
       "stream": "stdout",
       "text": [
        "276 1134606\n"
       ]
      },
      {
       "output_type": "stream",
       "stream": "stderr",
       "text": [
        "-c:17: UserWarning: Revision 3511a31f2cd3 is related to another bug (704320).\n",
        "-c:25: UserWarning: Bug 1134606 doesn't have a uplift request date.\n"
       ]
      },
      {
       "output_type": "stream",
       "stream": "stdout",
       "text": [
        "277 1154003\n"
       ]
      },
      {
       "output_type": "stream",
       "stream": "stdout",
       "text": [
        "278 1080319\n"
       ]
      },
      {
       "output_type": "stream",
       "stream": "stdout",
       "text": [
        "279 1160678\n"
       ]
      },
      {
       "output_type": "stream",
       "stream": "stderr",
       "text": [
        "-c:25: UserWarning: Bug 1154003 doesn't have a uplift request date.\n",
        "-c:25: UserWarning: Bug 1160678 doesn't have a uplift request date.\n"
       ]
      },
      {
       "output_type": "stream",
       "stream": "stdout",
       "text": [
        "280 1090385\n"
       ]
      },
      {
       "output_type": "stream",
       "stream": "stdout",
       "text": [
        "281 1154803\n"
       ]
      },
      {
       "output_type": "stream",
       "stream": "stdout",
       "text": [
        "282 1058131\n"
       ]
      },
      {
       "output_type": "stream",
       "stream": "stderr",
       "text": [
        "-c:25: UserWarning: Bug 1154803 doesn't have a uplift request date.\n",
        "-c:25: UserWarning: Bug 1058131 doesn't have a uplift request date.\n"
       ]
      },
      {
       "output_type": "stream",
       "stream": "stdout",
       "text": [
        "283 1159456\n"
       ]
      },
      {
       "output_type": "stream",
       "stream": "stdout",
       "text": [
        "284 1075620\n"
       ]
      },
      {
       "output_type": "stream",
       "stream": "stdout",
       "text": [
        "285 1151469\n"
       ]
      },
      {
       "output_type": "stream",
       "stream": "stdout",
       "text": [
        "286 1115227\n"
       ]
      },
      {
       "output_type": "stream",
       "stream": "stdout",
       "text": [
        "287 1141081\n"
       ]
      },
      {
       "output_type": "stream",
       "stream": "stdout",
       "text": [
        "288 1104036\n"
       ]
      },
      {
       "output_type": "stream",
       "stream": "stdout",
       "text": [
        "289 1160076\n"
       ]
      },
      {
       "output_type": "stream",
       "stream": "stdout",
       "text": [
        "290 1158289\n"
       ]
      },
      {
       "output_type": "stream",
       "stream": "stderr",
       "text": [
        "-c:25: UserWarning: Bug 1115227 doesn't have a uplift request date.\n",
        "-c:17: UserWarning: Reviewer mmaslaney@mozilla.com is not in the list of reviewers on Bugzilla.\n"
       ]
      },
      {
       "output_type": "stream",
       "stream": "stdout",
       "text": [
        "291 1152354\n"
       ]
      },
      {
       "output_type": "stream",
       "stream": "stderr",
       "text": [
        "-c:25: UserWarning: Bug 1158289 doesn't have a uplift request date.\n",
        "-c:25: UserWarning: Bug 1152354 doesn't have a uplift request date.\n"
       ]
      },
      {
       "output_type": "stream",
       "stream": "stdout",
       "text": [
        "292 1089413\n"
       ]
      },
      {
       "output_type": "stream",
       "stream": "stdout",
       "text": [
        "293 1062479\n"
       ]
      },
      {
       "output_type": "stream",
       "stream": "stdout",
       "text": [
        "294 1130450\n"
       ]
      },
      {
       "output_type": "stream",
       "stream": "stdout",
       "text": [
        "295 1151628\n"
       ]
      },
      {
       "output_type": "stream",
       "stream": "stderr",
       "text": [
        "-c:25: UserWarning: Bug 1062479 doesn't have a uplift request date.\n",
        "-c:25: UserWarning: Bug 1151628 doesn't have a uplift request date.\n"
       ]
      },
      {
       "output_type": "stream",
       "stream": "stdout",
       "text": [
        "296 1118216\n"
       ]
      },
      {
       "output_type": "stream",
       "stream": "stdout",
       "text": [
        "297 1137469\n"
       ]
      },
      {
       "output_type": "stream",
       "stream": "stdout",
       "text": [
        "298 1137050\n"
       ]
      },
      {
       "output_type": "stream",
       "stream": "stdout",
       "text": [
        "299 1149842\n"
       ]
      },
      {
       "output_type": "stream",
       "stream": "stdout",
       "text": [
        "300 1160407\n"
       ]
      },
      {
       "output_type": "stream",
       "stream": "stdout",
       "text": [
        "301 1136855\n"
       ]
      },
      {
       "output_type": "stream",
       "stream": "stdout",
       "text": [
        "302 1121773\n"
       ]
      },
      {
       "output_type": "stream",
       "stream": "stderr",
       "text": [
        "-c:25: UserWarning: Bug 1149842 doesn't have a uplift request date.\n",
        "-c:17: UserWarning: Author nalexander@mozilla.com is not in the list of authors on Bugzilla.\n"
       ]
      },
      {
       "output_type": "stream",
       "stream": "stderr",
       "text": [
        "-c:17: UserWarning: Revision bef3ac32b648 is related to another bug (1154960).\n",
        "-c:25: UserWarning: Bug 1121773 doesn't have a uplift request date.\n"
       ]
      },
      {
       "output_type": "stream",
       "stream": "stdout",
       "text": [
        "303 1152314\n"
       ]
      },
      {
       "output_type": "stream",
       "stream": "stdout",
       "text": [
        "304 1104925\n"
       ]
      },
      {
       "output_type": "stream",
       "stream": "stderr",
       "text": [
        "-c:25: UserWarning: Bug 1152314 doesn't have a uplift request date.\n",
        "-c:25: UserWarning: Bug 1104925 doesn't have a uplift request date.\n"
       ]
      },
      {
       "output_type": "stream",
       "stream": "stdout",
       "text": [
        "305 1123732\n"
       ]
      },
      {
       "output_type": "stream",
       "stream": "stdout",
       "text": [
        "306 1151506\n"
       ]
      },
      {
       "output_type": "stream",
       "stream": "stderr",
       "text": [
        "-c:17: UserWarning: Author dmajor@mozilla.com could not be found.\n",
        "-c:17: UserWarning: Revision 1652874e2d97 is related to another bug (997325).\n"
       ]
      },
      {
       "output_type": "stream",
       "stream": "stdout",
       "text": [
        "307 1104823\n"
       ]
      },
      {
       "output_type": "stream",
       "stream": "stdout",
       "text": [
        "308 1155432\n"
       ]
      },
      {
       "output_type": "stream",
       "stream": "stdout",
       "text": [
        "309 1158296\n"
       ]
      },
      {
       "output_type": "stream",
       "stream": "stdout",
       "text": [
        "310 1126918\n"
       ]
      },
      {
       "output_type": "stream",
       "stream": "stderr",
       "text": [
        "-c:25: UserWarning: Bug 1155432 doesn't have a uplift request date.\n",
        "-c:25: UserWarning: Bug 1126918 doesn't have a uplift request date.\n"
       ]
      },
      {
       "output_type": "stream",
       "stream": "stdout",
       "text": [
        "311 1144257\n"
       ]
      },
      {
       "output_type": "stream",
       "stream": "stdout",
       "text": [
        "312 1140830\n"
       ]
      },
      {
       "output_type": "stream",
       "stream": "stdout",
       "text": [
        "313 1042929\n"
       ]
      },
      {
       "output_type": "stream",
       "stream": "stdout",
       "text": [
        "314 1081157\n"
       ]
      },
      {
       "output_type": "stream",
       "stream": "stdout",
       "text": [
        "315 1108627\n"
       ]
      },
      {
       "output_type": "stream",
       "stream": "stdout",
       "text": [
        "316 1156560\n"
       ]
      },
      {
       "output_type": "stream",
       "stream": "stdout",
       "text": [
        "317 1151495\n"
       ]
      },
      {
       "output_type": "stream",
       "stream": "stderr",
       "text": [
        "-c:25: UserWarning: Bug 1144257 doesn't have a uplift request date.\n",
        "-c:17: UserWarning: Revision c76e6b6d4591 is related to another bug (1149420).\n"
       ]
      },
      {
       "output_type": "stream",
       "stream": "stdout",
       "text": [
        "318 1042984\n"
       ]
      },
      {
       "output_type": "stream",
       "stream": "stdout",
       "text": [
        "319 1119189\n"
       ]
      },
      {
       "output_type": "stream",
       "stream": "stdout",
       "text": [
        "320 1122445\n"
       ]
      },
      {
       "output_type": "stream",
       "stream": "stdout",
       "text": [
        "321 1079876\n"
       ]
      },
      {
       "output_type": "stream",
       "stream": "stdout",
       "text": [
        "322 1159967\n"
       ]
      },
      {
       "output_type": "stream",
       "stream": "stderr",
       "text": [
        "-c:25: UserWarning: Bug 1119189 doesn't have a uplift request date.\n",
        "-c:25: UserWarning: Bug 1159967 doesn't have a uplift request date.\n"
       ]
      },
      {
       "output_type": "stream",
       "stream": "stdout",
       "text": [
        "323 1121857\n"
       ]
      },
      {
       "output_type": "stream",
       "stream": "stdout",
       "text": [
        "324 1129029\n"
       ]
      },
      {
       "output_type": "stream",
       "stream": "stdout",
       "text": [
        "325 1057061\n"
       ]
      },
      {
       "output_type": "stream",
       "stream": "stdout",
       "text": [
        "326 1149864\n"
       ]
      },
      {
       "output_type": "stream",
       "stream": "stdout",
       "text": [
        "327 1138740\n"
       ]
      },
      {
       "output_type": "stream",
       "stream": "stderr",
       "text": [
        "-c:25: UserWarning: Bug 1057061 doesn't have a uplift request date.\n",
        "-c:17: UserWarning: Revision d5b0e9e6a849 is related to another bug (987508).\n"
       ]
      },
      {
       "output_type": "stream",
       "stream": "stdout",
       "text": [
        "328 1160775\n"
       ]
      },
      {
       "output_type": "stream",
       "stream": "stdout",
       "text": [
        "329 1155237\n"
       ]
      },
      {
       "output_type": "stream",
       "stream": "stderr",
       "text": [
        "-c:25: UserWarning: Bug 1138740 doesn't have a uplift request date.\n",
        "-c:25: UserWarning: Bug 1155237 doesn't have a uplift request date.\n"
       ]
      },
      {
       "output_type": "stream",
       "stream": "stdout",
       "text": [
        "330 1158343\n"
       ]
      },
      {
       "output_type": "stream",
       "stream": "stdout",
       "text": [
        "331 1154028\n"
       ]
      },
      {
       "output_type": "stream",
       "stream": "stderr",
       "text": [
        "-c:25: UserWarning: Bug 1158343 doesn't have a uplift request date.\n",
        "-c:25: UserWarning: Bug 1154028 doesn't have a uplift request date.\n"
       ]
      },
      {
       "output_type": "stream",
       "stream": "stdout",
       "text": [
        "332 1153630\n"
       ]
      },
      {
       "output_type": "stream",
       "stream": "stdout",
       "text": [
        "333 1129287\n"
       ]
      },
      {
       "output_type": "stream",
       "stream": "stderr",
       "text": [
        "-c:25: UserWarning: Bug 1153630 doesn't have a uplift request date.\n",
        "-c:25: UserWarning: Bug 1129287 doesn't have a uplift request date.\n"
       ]
      },
      {
       "output_type": "stream",
       "stream": "stdout",
       "text": [
        "334 1076975\n"
       ]
      },
      {
       "output_type": "stream",
       "stream": "stdout",
       "text": [
        "335 1158627\n"
       ]
      },
      {
       "output_type": "stream",
       "stream": "stdout",
       "text": [
        "336 1051556\n"
       ]
      },
      {
       "output_type": "stream",
       "stream": "stderr",
       "text": [
        "-c:25: UserWarning: Bug 1158627 doesn't have a uplift request date.\n",
        "-c:25: UserWarning: Bug 1051556 doesn't have a uplift request date.\n"
       ]
      },
      {
       "output_type": "stream",
       "stream": "stdout",
       "text": [
        "337 1159410\n"
       ]
      },
      {
       "output_type": "stream",
       "stream": "stdout",
       "text": [
        "bug_analysis error with bug 1159410: changes_size too small\n",
        "338 1159262\n"
       ]
      },
      {
       "output_type": "stream",
       "stream": "stderr",
       "text": [
        "-c:25: UserWarning: Bug 1159410 doesn't have a uplift request date.\n",
        "-c:25: UserWarning: Bug 1159262 doesn't have a uplift request date.\n"
       ]
      },
      {
       "output_type": "stream",
       "stream": "stdout",
       "text": [
        "339 1160577\n"
       ]
      },
      {
       "output_type": "stream",
       "stream": "stdout",
       "text": [
        "340 1063971\n"
       ]
      },
      {
       "output_type": "stream",
       "stream": "stdout",
       "text": [
        "341 1077645\n"
       ]
      },
      {
       "output_type": "stream",
       "stream": "stdout",
       "text": [
        "342 1104748\n"
       ]
      },
      {
       "output_type": "stream",
       "stream": "stdout",
       "text": [
        "343 1157682\n"
       ]
      },
      {
       "output_type": "stream",
       "stream": "stdout",
       "text": [
        "344 1154960\n"
       ]
      },
      {
       "output_type": "stream",
       "stream": "stderr",
       "text": [
        "-c:25: UserWarning: Bug 1160577 doesn't have a uplift request date.\n",
        "-c:25: UserWarning: Bug 1154960 doesn't have a uplift request date.\n"
       ]
      },
      {
       "output_type": "stream",
       "stream": "stdout",
       "text": [
        "345 1133629\n"
       ]
      },
      {
       "output_type": "stream",
       "stream": "stdout",
       "text": [
        "346 1137716\n"
       ]
      },
      {
       "output_type": "stream",
       "stream": "stderr",
       "text": [
        "-c:25: UserWarning: Bug 1133629 doesn't have a uplift request date.\n",
        "-c:17: UserWarning: Author philringnalda@gmail.com is not in the list of authors on Bugzilla.\n"
       ]
      },
      {
       "output_type": "stream",
       "stream": "stdout",
       "text": [
        "bug_analysis error with bug 1137716: Too many matching authors (philringnalda@gmail.com, jmuizelaar@mozilla.com) found for philringnalda@gmail.com\n",
        "347 1063052\n"
       ]
      },
      {
       "output_type": "stream",
       "stream": "stdout",
       "text": [
        "348 1156878\n"
       ]
      },
      {
       "output_type": "stream",
       "stream": "stderr",
       "text": [
        "-c:17: UserWarning: Revision b42ec325e34d is related to another bug (1008455).\n",
        "-c:25: UserWarning: Bug 1156878 doesn't have a uplift request date.\n"
       ]
      },
      {
       "output_type": "stream",
       "stream": "stdout",
       "text": [
        "349 1155836\n"
       ]
      },
      {
       "output_type": "stream",
       "stream": "stdout",
       "text": [
        "350 1120673\n"
       ]
      },
      {
       "output_type": "stream",
       "stream": "stdout",
       "text": [
        "351 1044443\n"
       ]
      },
      {
       "output_type": "stream",
       "stream": "stdout",
       "text": [
        "352 1156913\n"
       ]
      },
      {
       "output_type": "stream",
       "stream": "stderr",
       "text": [
        "-c:25: UserWarning: Bug 1155836 doesn't have a uplift request date.\n",
        "-c:17: UserWarning: Revision fa8854bd0029 doesn't exist.\n"
       ]
      },
      {
       "output_type": "stream",
       "stream": "stdout",
       "text": [
        "Connection error:\n",
        "   url:  http://marco-ThinkPad-W541:8000//json-rev?node=fa8854bd0029\n",
        "   text:  \"revision not found: fa8854bd0029\"\n",
        "353 1063048"
       ]
      },
      {
       "output_type": "stream",
       "stream": "stdout",
       "text": [
        "\n"
       ]
      },
      {
       "output_type": "stream",
       "stream": "stderr",
       "text": [
        "-c:17: UserWarning: Revision 35ff4bfb198f is related to another bug (984417).\n",
        "-c:17: UserWarning: Revision 35ff4bfb198f was not found.\n"
       ]
      },
      {
       "output_type": "stream",
       "stream": "stdout",
       "text": [
        "354 1116812\n"
       ]
      },
      {
       "output_type": "stream",
       "stream": "stdout",
       "text": [
        "355 1128478\n"
       ]
      },
      {
       "output_type": "stream",
       "stream": "stderr",
       "text": [
        "-c:25: UserWarning: Bug 1116812 doesn't have a uplift request date.\n",
        "-c:25: UserWarning: Bug 1128478 doesn't have a uplift request date.\n"
       ]
      },
      {
       "output_type": "stream",
       "stream": "stdout",
       "text": [
        "356 1058812\n"
       ]
      },
      {
       "output_type": "stream",
       "stream": "stdout",
       "text": [
        "357 1093863\n"
       ]
      },
      {
       "output_type": "stream",
       "stream": "stdout",
       "text": [
        "358 1152550\n"
       ]
      },
      {
       "output_type": "stream",
       "stream": "stderr",
       "text": [
        "-c:25: UserWarning: Bug 1093863 doesn't have a uplift request date.\n",
        "-c:25: UserWarning: Bug 1152550 doesn't have a uplift request date.\n"
       ]
      },
      {
       "output_type": "stream",
       "stream": "stdout",
       "text": [
        "359 1081702\n"
       ]
      },
      {
       "output_type": "stream",
       "stream": "stdout",
       "text": [
        "360 1153403\n"
       ]
      },
      {
       "output_type": "stream",
       "stream": "stdout",
       "text": [
        "361 1146883\n"
       ]
      },
      {
       "output_type": "stream",
       "stream": "stderr",
       "text": [
        "-c:25: UserWarning: Bug 1153403 doesn't have a uplift request date.\n",
        "-c:17: UserWarning: Revision 4c792bf9bc28 is related to another bug (1088054).\n"
       ]
      },
      {
       "output_type": "stream",
       "stream": "stdout",
       "text": [
        "362 1137251\n"
       ]
      },
      {
       "output_type": "stream",
       "stream": "stdout",
       "text": [
        "363 1110499\n"
       ]
      },
      {
       "output_type": "stream",
       "stream": "stdout",
       "text": [
        "364 1153173\n"
       ]
      },
      {
       "output_type": "stream",
       "stream": "stdout",
       "text": [
        "365 1152412\n"
       ]
      },
      {
       "output_type": "stream",
       "stream": "stdout",
       "text": [
        "366 1155684\n"
       ]
      },
      {
       "output_type": "stream",
       "stream": "stdout",
       "text": [
        "367 1143878\n"
       ]
      },
      {
       "output_type": "stream",
       "stream": "stderr",
       "text": [
        "-c:25: UserWarning: Bug 1153173 doesn't have a uplift request date.\n",
        "-c:25: UserWarning: Bug 1143878 doesn't have a uplift request date.\n"
       ]
      },
      {
       "output_type": "stream",
       "stream": "stdout",
       "text": [
        "368 1155608\n"
       ]
      },
      {
       "output_type": "stream",
       "stream": "stdout",
       "text": [
        "369 1153381\n"
       ]
      },
      {
       "output_type": "stream",
       "stream": "stdout",
       "text": [
        "370 1115892\n"
       ]
      },
      {
       "output_type": "stream",
       "stream": "stdout",
       "text": [
        "371 1145844\n"
       ]
      },
      {
       "output_type": "stream",
       "stream": "stderr",
       "text": [
        "-c:25: UserWarning: Bug 1155608 doesn't have a uplift request date.\n",
        "-c:25: UserWarning: Bug 1145844 doesn't have a uplift request date.\n"
       ]
      },
      {
       "output_type": "stream",
       "stream": "stdout",
       "text": [
        "372 1145585\n"
       ]
      },
      {
       "output_type": "stream",
       "stream": "stdout",
       "text": [
        "373 1083079\n"
       ]
      },
      {
       "output_type": "stream",
       "stream": "stderr",
       "text": [
        "-c:17: UserWarning: Revision dedaffb8297a is related to another bug (1046055).\n",
        "-c:17: UserWarning: Reviewer matt.woodrow@gmail.com is not in the list of reviewers on Bugzilla.\n"
       ]
      },
      {
       "output_type": "stream",
       "stream": "stdout",
       "text": [
        "374 1144199\n"
       ]
      },
      {
       "output_type": "stream",
       "stream": "stdout",
       "text": [
        "375 1155083\n"
       ]
      },
      {
       "output_type": "stream",
       "stream": "stdout",
       "text": [
        "Connection error:\n",
        "   url:  http://marco-ThinkPad-W541:8000//json-rev?node=536896d12700\n",
        "   text:  \"revision not found: 536896d12700\"\n",
        "376 1157766"
       ]
      },
      {
       "output_type": "stream",
       "stream": "stdout",
       "text": [
        "\n"
       ]
      },
      {
       "output_type": "stream",
       "stream": "stderr",
       "text": [
        "-c:17: UserWarning: Revision 536896d12700 doesn't exist.\n",
        "-c:25: UserWarning: Bug 1157766 doesn't have a uplift request date.\n"
       ]
      },
      {
       "output_type": "stream",
       "stream": "stdout",
       "text": [
        "377 1046017\n"
       ]
      },
      {
       "output_type": "stream",
       "stream": "stderr",
       "text": [
        "-c:17: UserWarning: Revision 8588817f7f86 is related to another bug (1006797).\n",
        "-c:17: UserWarning: Revision 1c213218173f was not found.\n"
       ]
      },
      {
       "output_type": "stream",
       "stream": "stdout",
       "text": [
        "378 1137609\n"
       ]
      },
      {
       "output_type": "stream",
       "stream": "stdout",
       "text": [
        "379 1137141\n"
       ]
      },
      {
       "output_type": "stream",
       "stream": "stdout",
       "text": [
        "380 1064864\n"
       ]
      },
      {
       "output_type": "stream",
       "stream": "stderr",
       "text": [
        "-c:17: UserWarning: Revision 8588817f7f86 was not found.\n",
        "-c:17: UserWarning: Revision c2429d6c41fb was not found.\n",
        "-c:17: UserWarning: Revision 7e0adf1211a7 was not found.\n",
        "-c:17: UserWarning: Revision 4c660783c5d8 was not found.\n",
        "-c:17: UserWarning: Revision 0bc9fd5d0476 is related to another bug (1043426).\n"
       ]
      },
      {
       "output_type": "stream",
       "stream": "stderr",
       "text": [
        "-c:17: UserWarning: Revision d7e3d485cd8d is related to another bug (1043426).\n",
        "-c:17: UserWarning: Revision c30b79646349 is related to another bug (1089364).\n"
       ]
      },
      {
       "output_type": "stream",
       "stream": "stdout",
       "text": [
        "bug_analysis error with bug 1064864: Too many matching authors (bas@basschouten.com, jmuizelaar@mozilla.com) found for bschouten@mozilla.com\n",
        "381 1088858\n"
       ]
      },
      {
       "output_type": "stream",
       "stream": "stdout",
       "text": [
        "382 1151721\n"
       ]
      },
      {
       "output_type": "stream",
       "stream": "stdout",
       "text": [
        "383 1113121\n"
       ]
      },
      {
       "output_type": "stream",
       "stream": "stderr",
       "text": [
        "-c:17: UserWarning: Author bas@basschouten.com is not in the list of authors on Bugzilla.\n",
        "-c:17: UserWarning: Revision 4439b62ad770 is related to another bug (1055032).\n"
       ]
      },
      {
       "output_type": "stream",
       "stream": "stdout",
       "text": [
        "384 1108709\n"
       ]
      },
      {
       "output_type": "stream",
       "stream": "stdout",
       "text": [
        "385 1158849\n"
       ]
      },
      {
       "output_type": "stream",
       "stream": "stdout",
       "text": [
        "386 1152016\n"
       ]
      },
      {
       "output_type": "stream",
       "stream": "stderr",
       "text": [
        "-c:25: UserWarning: Bug 1158849 doesn't have a uplift request date.\n",
        "-c:25: UserWarning: Bug 1152016 doesn't have a uplift request date.\n"
       ]
      },
      {
       "output_type": "stream",
       "stream": "stdout",
       "text": [
        "387 1149761\n"
       ]
      },
      {
       "output_type": "stream",
       "stream": "stdout",
       "text": [
        "388 1159659\n"
       ]
      },
      {
       "output_type": "stream",
       "stream": "stdout",
       "text": [
        "389 1139831\n"
       ]
      },
      {
       "output_type": "stream",
       "stream": "stderr",
       "text": [
        "-c:17: UserWarning: Revision 949644ee3fdd is related to another bug (1064706).\n",
        "-c:17: UserWarning: Revision 7b6c3c0e7ea6 is related to another bug (1064706).\n"
       ]
      },
      {
       "output_type": "stream",
       "stream": "stdout",
       "text": [
        "390 1147728\n"
       ]
      },
      {
       "output_type": "stream",
       "stream": "stdout",
       "text": [
        "391 1111330\n"
       ]
      },
      {
       "output_type": "stream",
       "stream": "stdout",
       "text": [
        "392 1151309\n"
       ]
      },
      {
       "output_type": "stream",
       "stream": "stderr",
       "text": [
        "-c:25: UserWarning: Bug 1139831 doesn't have a uplift request date.\n",
        "-c:25: UserWarning: Bug 1151309 doesn't have a uplift request date.\n"
       ]
      },
      {
       "output_type": "stream",
       "stream": "stdout",
       "text": [
        "393 1161654\n"
       ]
      },
      {
       "output_type": "stream",
       "stream": "stdout",
       "text": [
        "394 1147487\n"
       ]
      },
      {
       "output_type": "stream",
       "stream": "stdout",
       "text": [
        "395 1155519\n"
       ]
      },
      {
       "output_type": "stream",
       "stream": "stderr",
       "text": [
        "-c:25: UserWarning: Bug 1161654 doesn't have a uplift request date.\n",
        "-c:25: UserWarning: Bug 1155519 doesn't have a uplift request date.\n"
       ]
      },
      {
       "output_type": "stream",
       "stream": "stdout",
       "text": [
        "396 1134501\n"
       ]
      },
      {
       "output_type": "stream",
       "stream": "stdout",
       "text": [
        "397 1088850\n"
       ]
      },
      {
       "output_type": "stream",
       "stream": "stdout",
       "text": [
        "398 1117140\n"
       ]
      },
      {
       "output_type": "stream",
       "stream": "stdout",
       "text": [
        "399 1044975\n"
       ]
      },
      {
       "output_type": "stream",
       "stream": "stdout",
       "text": [
        "400 1179262\n"
       ]
      },
      {
       "output_type": "stream",
       "stream": "stderr",
       "text": [
        "-c:25: UserWarning: Bug 1044975 doesn't have a uplift request date.\n",
        "-c:17: UserWarning: Author ydelendik@mozilla.com is not in the list of authors on Bugzilla.\n"
       ]
      },
      {
       "output_type": "stream",
       "stream": "stderr",
       "text": [
        "-c:17: UserWarning: Reviewer bzbarsky@mit.edu is not in the list of reviewers on Bugzilla.\n",
        "-c:25: UserWarning: Bug 1179262 doesn't have a uplift request date.\n"
       ]
      },
      {
       "output_type": "stream",
       "stream": "stdout",
       "text": [
        "401 1259482\n"
       ]
      },
      {
       "output_type": "stream",
       "stream": "stdout",
       "text": [
        "402 1244505\n"
       ]
      },
      {
       "output_type": "stream",
       "stream": "stdout",
       "text": [
        "403 1220641\n"
       ]
      },
      {
       "output_type": "stream",
       "stream": "stdout",
       "text": [
        "404 1162713\n"
       ]
      },
      {
       "output_type": "stream",
       "stream": "stdout",
       "text": [
        "405 1163411\n"
       ]
      },
      {
       "output_type": "stream",
       "stream": "stderr",
       "text": [
        "-c:25: UserWarning: Bug 1259482 doesn't have a uplift request date.\n",
        "-c:17: UserWarning: Reviewer jaws@mozilla.com is not in the list of reviewers on Bugzilla.\n"
       ]
      },
      {
       "output_type": "stream",
       "stream": "stdout",
       "text": [
        "406 1164649\n"
       ]
      },
      {
       "output_type": "stream",
       "stream": "stdout",
       "text": [
        "407 1242176\n"
       ]
      },
      {
       "output_type": "stream",
       "stream": "stderr",
       "text": [
        "-c:25: UserWarning: Bug 1163411 doesn't have a uplift request date.\n",
        "-c:17: UserWarning: Revision fb4f42bbeb01 is related to another bug (1102184).\n"
       ]
      },
      {
       "output_type": "stream",
       "stream": "stdout",
       "text": [
        "408 1245516\n"
       ]
      },
      {
       "output_type": "stream",
       "stream": "stdout",
       "text": [
        "409 1163319\n"
       ]
      },
      {
       "output_type": "stream",
       "stream": "stderr",
       "text": [
        "-c:17: UserWarning: Revision 5a6b63cd300e is related to another bug (1208525).\n",
        "-c:25: UserWarning: Bug 1163319 doesn't have a uplift request date.\n"
       ]
      },
      {
       "output_type": "stream",
       "stream": "stdout",
       "text": [
        "410 1239787\n"
       ]
      },
      {
       "output_type": "stream",
       "stream": "stdout",
       "text": [
        "411 1168189\n"
       ]
      },
      {
       "output_type": "stream",
       "stream": "stdout",
       "text": [
        "412 1215012\n"
       ]
      },
      {
       "output_type": "stream",
       "stream": "stdout",
       "text": [
        "413 1227974\n"
       ]
      },
      {
       "output_type": "stream",
       "stream": "stdout",
       "text": [
        "414 1264227\n"
       ]
      },
      {
       "output_type": "stream",
       "stream": "stdout",
       "text": [
        "415 1162283\n"
       ]
      },
      {
       "output_type": "stream",
       "stream": "stderr",
       "text": [
        "-c:25: UserWarning: Bug 1239787 doesn't have a uplift request date.\n",
        "-c:25: UserWarning: Bug 1162283 doesn't have a uplift request date.\n"
       ]
      },
      {
       "output_type": "stream",
       "stream": "stdout",
       "text": [
        "416 1254694\n"
       ]
      },
      {
       "output_type": "stream",
       "stream": "stdout",
       "text": [
        "417 1165732\n"
       ]
      },
      {
       "output_type": "stream",
       "stream": "stdout",
       "text": [
        "418 1163349\n"
       ]
      },
      {
       "output_type": "stream",
       "stream": "stdout",
       "text": [
        "419 1164302\n"
       ]
      },
      {
       "output_type": "stream",
       "stream": "stderr",
       "text": [
        "-c:25: UserWarning: Bug 1163349 doesn't have a uplift request date.\n",
        "-c:17: UserWarning: Revision b2e843b2300d is related to another bug (1155521).\n"
       ]
      },
      {
       "output_type": "stream",
       "stream": "stdout",
       "text": [
        "420 1209612\n"
       ]
      },
      {
       "output_type": "stream",
       "stream": "stdout",
       "text": [
        "421 1253588\n"
       ]
      },
      {
       "output_type": "stream",
       "stream": "stdout",
       "text": [
        "bug_analysis error with bug 1253588: changes_size not in bug_data\n",
        "422 1163841\n"
       ]
      },
      {
       "output_type": "stream",
       "stream": "stdout",
       "text": [
        "423 1205456\n"
       ]
      },
      {
       "output_type": "stream",
       "stream": "stdout",
       "text": [
        "424 1161793\n"
       ]
      },
      {
       "output_type": "stream",
       "stream": "stderr",
       "text": [
        "-c:17: UserWarning: Revision 788d4dc9aaca is related to another bug (870452).\n",
        "-c:25: UserWarning: Bug 1161793 doesn't have a uplift request date.\n"
       ]
      },
      {
       "output_type": "stream",
       "stream": "stdout",
       "text": [
        "425 1162147\n"
       ]
      },
      {
       "output_type": "stream",
       "stream": "stdout",
       "text": [
        "426 1163651\n"
       ]
      },
      {
       "output_type": "stream",
       "stream": "stderr",
       "text": [
        "-c:25: UserWarning: Bug 1162147 doesn't have a uplift request date.\n",
        "-c:25: UserWarning: Bug 1163651 doesn't have a uplift request date.\n"
       ]
      },
      {
       "output_type": "stream",
       "stream": "stdout",
       "text": [
        "427 1164161\n"
       ]
      },
      {
       "output_type": "stream",
       "stream": "stdout",
       "text": [
        "428 1205083\n"
       ]
      },
      {
       "output_type": "stream",
       "stream": "stderr",
       "text": [
        "-c:25: UserWarning: Bug 1164161 doesn't have a uplift request date.\n",
        "-c:25: UserWarning: Bug 1205083 doesn't have a uplift request date.\n"
       ]
      },
      {
       "output_type": "stream",
       "stream": "stdout",
       "text": [
        "429 1268922\n"
       ]
      },
      {
       "output_type": "stream",
       "stream": "stdout",
       "text": [
        "430 1221448\n"
       ]
      },
      {
       "output_type": "stream",
       "stream": "stdout",
       "text": [
        "431 1245696\n"
       ]
      },
      {
       "output_type": "stream",
       "stream": "stdout",
       "text": [
        "432 1166771\n"
       ]
      },
      {
       "output_type": "stream",
       "stream": "stdout",
       "text": [
        "433 1178601\n"
       ]
      },
      {
       "output_type": "stream",
       "stream": "stdout",
       "text": [
        "434 1165416\n"
       ]
      },
      {
       "output_type": "stream",
       "stream": "stdout",
       "text": [
        "435 1164698\n"
       ]
      },
      {
       "output_type": "stream",
       "stream": "stdout",
       "text": [
        "436 1279467\n"
       ]
      },
      {
       "output_type": "stream",
       "stream": "stdout",
       "text": [
        "437 1221228\n"
       ]
      },
      {
       "output_type": "stream",
       "stream": "stdout",
       "text": [
        "438 1161796\n"
       ]
      },
      {
       "output_type": "stream",
       "stream": "stderr",
       "text": [
        "-c:25: UserWarning: Bug 1164698 doesn't have a uplift request date.\n",
        "-c:25: UserWarning: Bug 1161796 doesn't have a uplift request date.\n"
       ]
      },
      {
       "output_type": "stream",
       "stream": "stdout",
       "text": [
        "439 1161859\n"
       ]
      },
      {
       "output_type": "stream",
       "stream": "stdout",
       "text": [
        "440 1233208\n"
       ]
      },
      {
       "output_type": "stream",
       "stream": "stdout",
       "text": [
        "441 1204036\n"
       ]
      },
      {
       "output_type": "stream",
       "stream": "stderr",
       "text": [
        "-c:25: UserWarning: Bug 1161859 doesn't have a uplift request date.\n",
        "-c:25: UserWarning: Bug 1204036 doesn't have a uplift request date.\n"
       ]
      },
      {
       "output_type": "stream",
       "stream": "stdout",
       "text": [
        "442 1163360\n"
       ]
      },
      {
       "output_type": "stream",
       "stream": "stdout",
       "text": [
        "443 1205410\n"
       ]
      },
      {
       "output_type": "stream",
       "stream": "stderr",
       "text": [
        "-c:25: UserWarning: Bug 1163360 doesn't have a uplift request date.\n",
        "-c:17: UserWarning: Revision 4819768c871f is related to another bug (1120487).\n"
       ]
      },
      {
       "output_type": "stream",
       "stream": "stdout",
       "text": [
        "444 1258562\n"
       ]
      },
      {
       "output_type": "stream",
       "stream": "stdout",
       "text": [
        "445 1163111\n"
       ]
      },
      {
       "output_type": "stream",
       "stream": "stdout",
       "text": [
        "446 1175104\n"
       ]
      },
      {
       "output_type": "stream",
       "stream": "stdout",
       "text": [
        "447 1229967\n"
       ]
      },
      {
       "output_type": "stream",
       "stream": "stderr",
       "text": [
        "-c:25: UserWarning: Bug 1258562 doesn't have a uplift request date.\n",
        "-c:17: UserWarning: Reviewer s.kaspari@gmail.com is not in the list of reviewers on Bugzilla.\n"
       ]
      },
      {
       "output_type": "stream",
       "stream": "stdout",
       "text": [
        "448 1267318\n"
       ]
      },
      {
       "output_type": "stream",
       "stream": "stdout",
       "text": [
        "449 1164940\n"
       ]
      },
      {
       "output_type": "stream",
       "stream": "stdout",
       "text": [
        "450 1166349\n"
       ]
      },
      {
       "output_type": "stream",
       "stream": "stdout",
       "text": [
        "451 1162316\n"
       ]
      },
      {
       "output_type": "stream",
       "stream": "stdout",
       "text": [
        "bug_analysis error with bug 1162316: changes_size too small\n",
        "452 1162412\n"
       ]
      },
      {
       "output_type": "stream",
       "stream": "stdout",
       "text": [
        "453 1189709\n"
       ]
      },
      {
       "output_type": "stream",
       "stream": "stdout",
       "text": [
        "454 1258354\n"
       ]
      },
      {
       "output_type": "stream",
       "stream": "stdout",
       "text": [
        "455 1264869\n"
       ]
      },
      {
       "output_type": "stream",
       "stream": "stderr",
       "text": [
        "-c:25: UserWarning: Bug 1258354 doesn't have a uplift request date.\n",
        "-c:25: UserWarning: Bug 1264869 doesn't have a uplift request date.\n"
       ]
      },
      {
       "output_type": "stream",
       "stream": "stdout",
       "text": [
        "456 1266366\n"
       ]
      },
      {
       "output_type": "stream",
       "stream": "stdout",
       "text": [
        "457 1203577\n"
       ]
      },
      {
       "output_type": "stream",
       "stream": "stdout",
       "text": [
        "458 1256442\n"
       ]
      },
      {
       "output_type": "stream",
       "stream": "stdout",
       "text": [
        "bug_analysis error with bug 1256442: changes_size not in bug_data\n",
        "459 1255735\n"
       ]
      },
      {
       "output_type": "stream",
       "stream": "stdout",
       "text": [
        "bug_analysis error with bug 1255735: changes_size not in bug_data\n",
        "460 1240534\n"
       ]
      },
      {
       "output_type": "stream",
       "stream": "stderr",
       "text": [
        "-c:25: UserWarning: Bug 1255735 doesn't have a uplift request date.\n",
        "-c:25: UserWarning: Bug 1240534 doesn't have a uplift request date.\n"
       ]
      },
      {
       "output_type": "stream",
       "stream": "stdout",
       "text": [
        "461 1206376\n"
       ]
      },
      {
       "output_type": "stream",
       "stream": "stdout",
       "text": [
        "462 1255605\n"
       ]
      },
      {
       "output_type": "stream",
       "stream": "stdout",
       "text": [
        "463 1278005\n"
       ]
      },
      {
       "output_type": "stream",
       "stream": "stdout",
       "text": [
        "464 1240892\n"
       ]
      },
      {
       "output_type": "stream",
       "stream": "stderr",
       "text": [
        "-c:25: UserWarning: Bug 1278005 doesn't have a uplift request date.\n",
        "-c:25: UserWarning: Bug 1240892 doesn't have a uplift request date.\n"
       ]
      },
      {
       "output_type": "stream",
       "stream": "stdout",
       "text": [
        "465 1222171\n"
       ]
      },
      {
       "output_type": "stream",
       "stream": "stdout",
       "text": [
        "466 1240607\n"
       ]
      },
      {
       "output_type": "stream",
       "stream": "stdout",
       "text": [
        "467 1218914\n"
       ]
      },
      {
       "output_type": "stream",
       "stream": "stdout",
       "text": [
        "468 1235537\n"
       ]
      },
      {
       "output_type": "stream",
       "stream": "stderr",
       "text": [
        "-c:25: UserWarning: Bug 1240607 doesn't have a uplift request date.\n",
        "-c:25: UserWarning: Bug 1235537 doesn't have a uplift request date.\n"
       ]
      },
      {
       "output_type": "stream",
       "stream": "stdout",
       "text": [
        "469 1261321\n"
       ]
      },
      {
       "output_type": "stream",
       "stream": "stderr",
       "text": [
        "-c:17: UserWarning: Revision 932318a4e150 is related to another bug (121976).\n",
        "-c:25: UserWarning: Bug 1261321 doesn't have a uplift request date.\n"
       ]
      },
      {
       "output_type": "stream",
       "stream": "stdout",
       "text": [
        "470 1223466\n"
       ]
      },
      {
       "output_type": "stream",
       "stream": "stdout",
       "text": [
        "471 1248049\n"
       ]
      },
      {
       "output_type": "stream",
       "stream": "stdout",
       "text": [
        "472 1161881\n"
       ]
      },
      {
       "output_type": "stream",
       "stream": "stdout",
       "text": [
        "473 1244076\n"
       ]
      },
      {
       "output_type": "stream",
       "stream": "stdout",
       "text": [
        "474 1278605\n"
       ]
      },
      {
       "output_type": "stream",
       "stream": "stderr",
       "text": [
        "-c:25: UserWarning: Bug 1223466 doesn't have a uplift request date.\n",
        "-c:17: UserWarning: Revision 2c039c5822c2 is related to another bug (1275998).\n"
       ]
      },
      {
       "output_type": "stream",
       "stream": "stdout",
       "text": [
        "475 1258650\n"
       ]
      },
      {
       "output_type": "stream",
       "stream": "stdout",
       "text": [
        "476 1256371\n"
       ]
      },
      {
       "output_type": "stream",
       "stream": "stdout",
       "text": [
        "477 1194055\n"
       ]
      },
      {
       "output_type": "stream",
       "stream": "stdout",
       "text": [
        "478 1240521\n"
       ]
      },
      {
       "output_type": "stream",
       "stream": "stdout",
       "text": [
        "479 1164410\n"
       ]
      },
      {
       "output_type": "stream",
       "stream": "stderr",
       "text": [
        "-c:17: UserWarning: Reviewer red could not be found.\n",
        "-c:25: UserWarning: Bug 1164410 doesn't have a uplift request date.\n"
       ]
      },
      {
       "output_type": "stream",
       "stream": "stdout",
       "text": [
        "480 1162205\n"
       ]
      },
      {
       "output_type": "stream",
       "stream": "stdout",
       "text": [
        "481 1243722\n"
       ]
      },
      {
       "output_type": "stream",
       "stream": "stderr",
       "text": [
        "-c:17: UserWarning: Reviewer mak77@bonardo.net is not in the list of reviewers on Bugzilla.\n",
        "-c:17: UserWarning: Revision 27061dc242e4 is related to another bug (956906).\n"
       ]
      },
      {
       "output_type": "stream",
       "stream": "stdout",
       "text": [
        "482 1233237\n"
       ]
      },
      {
       "output_type": "stream",
       "stream": "stdout",
       "text": [
        "483 1243453\n"
       ]
      },
      {
       "output_type": "stream",
       "stream": "stdout",
       "text": [
        "484 1204483\n"
       ]
      },
      {
       "output_type": "stream",
       "stream": "stdout",
       "text": [
        "485 1230391\n"
       ]
      },
      {
       "output_type": "stream",
       "stream": "stderr",
       "text": [
        "-c:25: UserWarning: Bug 1243722 doesn't have a uplift request date.\n",
        "-c:25: UserWarning: Bug 1230391 doesn't have a uplift request date.\n"
       ]
      },
      {
       "output_type": "stream",
       "stream": "stdout",
       "text": [
        "486 1264786\n"
       ]
      },
      {
       "output_type": "stream",
       "stream": "stdout",
       "text": [
        "487 1176073\n"
       ]
      },
      {
       "output_type": "stream",
       "stream": "stdout",
       "text": [
        "488 1161810\n"
       ]
      },
      {
       "output_type": "stream",
       "stream": "stdout",
       "text": [
        "489 1276161\n"
       ]
      },
      {
       "output_type": "stream",
       "stream": "stdout",
       "text": [
        "490 1245711\n"
       ]
      },
      {
       "output_type": "stream",
       "stream": "stdout",
       "text": [
        "491 1240506\n"
       ]
      },
      {
       "output_type": "stream",
       "stream": "stderr",
       "text": [
        "-c:25: UserWarning: Bug 1176073 doesn't have a uplift request date.\n",
        "-c:25: UserWarning: Bug 1240506 doesn't have a uplift request date.\n"
       ]
      },
      {
       "output_type": "stream",
       "stream": "stdout",
       "text": [
        "492 1257861\n"
       ]
      },
      {
       "output_type": "stream",
       "stream": "stdout",
       "text": [
        "493 1166392\n"
       ]
      },
      {
       "output_type": "stream",
       "stream": "stdout",
       "text": [
        "494 1233970\n"
       ]
      },
      {
       "output_type": "stream",
       "stream": "stdout",
       "text": [
        "495 1244480\n"
       ]
      },
      {
       "output_type": "stream",
       "stream": "stderr",
       "text": [
        "-c:25: UserWarning: Bug 1257861 doesn't have a uplift request date.\n",
        "-c:17: UserWarning: Revision b5e0aa4ec511 is related to another bug (1215072).\n"
       ]
      },
      {
       "output_type": "stream",
       "stream": "stdout",
       "text": [
        "496 1163519\n"
       ]
      },
      {
       "output_type": "stream",
       "stream": "stdout",
       "text": [
        "497 1185639\n"
       ]
      },
      {
       "output_type": "stream",
       "stream": "stdout",
       "text": [
        "498 1268096\n"
       ]
      },
      {
       "output_type": "stream",
       "stream": "stdout",
       "text": [
        "bug_analysis error with bug 1268096: Too many matching authors (jgilbert@mozilla.com, jmuizelaar@mozilla.com) found for jmuizelaar@mozilla.com\n",
        "499 1164208\n"
       ]
      },
      {
       "output_type": "stream",
       "stream": "stdout",
       "text": [
        "500 1162253\n"
       ]
      },
      {
       "output_type": "stream",
       "stream": "stderr",
       "text": [
        "-c:25: UserWarning: Bug 1164208 doesn't have a uplift request date.\n",
        "-c:25: UserWarning: Bug 1162253 doesn't have a uplift request date.\n"
       ]
      },
      {
       "output_type": "stream",
       "stream": "stdout",
       "text": [
        "bug_analysis error with bug 1162253: changes_size too small\n",
        "501 1218763\n"
       ]
      },
      {
       "output_type": "stream",
       "stream": "stdout",
       "text": [
        "502 1162917\n"
       ]
      },
      {
       "output_type": "stream",
       "stream": "stdout",
       "text": [
        "503 1194923\n"
       ]
      },
      {
       "output_type": "stream",
       "stream": "stderr",
       "text": [
        "-c:17: UserWarning: Revision 7674044400c8 is related to another bug (1170966).\n",
        "-c:17: UserWarning: Revision 513d1660a8d4 is related to another bug (1192192).\n"
       ]
      },
      {
       "output_type": "stream",
       "stream": "stderr",
       "text": [
        "-c:17: UserWarning: Revision 28fac8d7cdde is related to another bug (1186236).\n",
        "-c:25: UserWarning: Bug 1194923 doesn't have a uplift request date.\n"
       ]
      },
      {
       "output_type": "stream",
       "stream": "stdout",
       "text": [
        "504 1189593\n"
       ]
      },
      {
       "output_type": "stream",
       "stream": "stdout",
       "text": [
        "505 1244122\n"
       ]
      },
      {
       "output_type": "stream",
       "stream": "stdout",
       "text": [
        "506 1220502\n"
       ]
      },
      {
       "output_type": "stream",
       "stream": "stderr",
       "text": [
        "-c:25: UserWarning: Bug 1189593 doesn't have a uplift request date.\n",
        "-c:25: UserWarning: Bug 1220502 doesn't have a uplift request date.\n"
       ]
      },
      {
       "output_type": "stream",
       "stream": "stdout",
       "text": [
        "507 1236975\n"
       ]
      },
      {
       "output_type": "stream",
       "stream": "stdout",
       "text": [
        "508 1243750\n"
       ]
      },
      {
       "output_type": "stream",
       "stream": "stdout",
       "text": [
        "509 1164419\n"
       ]
      },
      {
       "output_type": "stream",
       "stream": "stdout",
       "text": [
        "510 1262312\n"
       ]
      },
      {
       "output_type": "stream",
       "stream": "stdout",
       "text": [
        "511 1255139\n"
       ]
      },
      {
       "output_type": "stream",
       "stream": "stdout",
       "text": [
        "512 1205038\n"
       ]
      },
      {
       "output_type": "stream",
       "stream": "stdout",
       "text": [
        "513 1209124\n"
       ]
      },
      {
       "output_type": "stream",
       "stream": "stdout",
       "text": [
        "514 1254503\n"
       ]
      },
      {
       "output_type": "stream",
       "stream": "stderr",
       "text": [
        "-c:25: UserWarning: Bug 1164419 doesn't have a uplift request date.\n",
        "-c:25: UserWarning: Bug 1254503 doesn't have a uplift request date.\n"
       ]
      },
      {
       "output_type": "stream",
       "stream": "stdout",
       "text": [
        "515 1182197\n"
       ]
      },
      {
       "output_type": "stream",
       "stream": "stderr",
       "text": [
        "-c:17: UserWarning: 28161d563685 looks like a backout, but we couldn't find which revision was backed out.\n",
        "-c:25: UserWarning: Bug 1182197 doesn't have a uplift request date.\n"
       ]
      },
      {
       "output_type": "stream",
       "stream": "stdout",
       "text": [
        "516 1203089\n"
       ]
      },
      {
       "output_type": "stream",
       "stream": "stdout",
       "text": [
        "bug_analysis error with bug 1203089: changes_size too small\n",
        "517 1243740\n"
       ]
      },
      {
       "output_type": "stream",
       "stream": "stdout",
       "text": [
        "518 1167096\n"
       ]
      },
      {
       "output_type": "stream",
       "stream": "stdout",
       "text": [
        "519 1240559\n"
       ]
      },
      {
       "output_type": "stream",
       "stream": "stdout",
       "text": [
        "520 1277522\n"
       ]
      },
      {
       "output_type": "stream",
       "stream": "stdout",
       "text": [
        "bug_analysis error with bug 1277522: 'NoneType' object has no attribute 'group'\n",
        "521 1163645\n"
       ]
      },
      {
       "output_type": "stream",
       "stream": "stdout",
       "text": [
        "522 1166240\n"
       ]
      },
      {
       "output_type": "stream",
       "stream": "stdout",
       "text": [
        "523 1182866\n"
       ]
      },
      {
       "output_type": "stream",
       "stream": "stderr",
       "text": [
        "-c:25: UserWarning: Bug 1163645 doesn't have a uplift request date.\n",
        "-c:17: UserWarning: Revision 322487136b28 is related to another bug (1162199).\n"
       ]
      },
      {
       "output_type": "stream",
       "stream": "stdout",
       "text": [
        "524 1244069\n"
       ]
      },
      {
       "output_type": "stream",
       "stream": "stdout",
       "text": [
        "525 1211568\n"
       ]
      },
      {
       "output_type": "stream",
       "stream": "stdout",
       "text": [
        "526 1209464\n"
       ]
      },
      {
       "output_type": "stream",
       "stream": "stdout",
       "text": [
        "527 1164407\n"
       ]
      },
      {
       "output_type": "stream",
       "stream": "stderr",
       "text": [
        "-c:25: UserWarning: Bug 1211568 doesn't have a uplift request date.\n",
        "-c:25: UserWarning: Bug 1164407 doesn't have a uplift request date.\n"
       ]
      },
      {
       "output_type": "stream",
       "stream": "stdout",
       "text": [
        "528 1195844\n"
       ]
      },
      {
       "output_type": "stream",
       "stream": "stdout",
       "text": [
        "529 1171730\n"
       ]
      },
      {
       "output_type": "stream",
       "stream": "stdout",
       "text": [
        "530 1246850\n"
       ]
      },
      {
       "output_type": "stream",
       "stream": "stdout",
       "text": [
        "531 1162251\n"
       ]
      },
      {
       "output_type": "stream",
       "stream": "stdout",
       "text": [
        "532 1249074\n"
       ]
      },
      {
       "output_type": "stream",
       "stream": "stdout",
       "text": [
        "533 1249600\n"
       ]
      },
      {
       "output_type": "stream",
       "stream": "stderr",
       "text": [
        "-c:25: UserWarning: Bug 1195844 doesn't have a uplift request date.\n",
        "-c:25: UserWarning: Bug 1249600 doesn't have a uplift request date.\n"
       ]
      },
      {
       "output_type": "stream",
       "stream": "stdout",
       "text": [
        "534 1163576\n"
       ]
      },
      {
       "output_type": "stream",
       "stream": "stdout",
       "text": [
        "535 1239075\n"
       ]
      },
      {
       "output_type": "stream",
       "stream": "stdout",
       "text": [
        "536 1165135\n"
       ]
      },
      {
       "output_type": "stream",
       "stream": "stdout",
       "text": [
        "537 1162735\n"
       ]
      },
      {
       "output_type": "stream",
       "stream": "stderr",
       "text": [
        "-c:17: UserWarning: Revision b4046ca29b14 is related to another bug (1215921).\n",
        "-c:25: UserWarning: Bug 1162735 doesn't have a uplift request date.\n"
       ]
      },
      {
       "output_type": "stream",
       "stream": "stdout",
       "text": [
        "538 1239823\n"
       ]
      },
      {
       "output_type": "stream",
       "stream": "stderr",
       "text": [
        "-c:17: UserWarning: Revision 52a402b0f7bc is related to another bug (1177510).\n",
        "WARNING:requests.packages.urllib3.connectionpool:Retrying (Retry(total=255, connect=None, read=None, redirect=None)) after connection broken by 'ReadTimeoutError(\"HTTPSConnectionPool(host='crash-stats.mozilla.com', port=443): Read timed out. (read timeout=30)\",)': /api/SuperSearch?_facets=product&topmost_filenames=~prompt.java&product=Firefox&_results_number=0&_facets_size=1\n",
        "-c:25: UserWarning: Bug 1239823 doesn't have a uplift request date.\n"
       ]
      },
      {
       "output_type": "stream",
       "stream": "stdout",
       "text": [
        "539 1251431\n"
       ]
      },
      {
       "output_type": "stream",
       "stream": "stdout",
       "text": [
        "540 1234553\n"
       ]
      },
      {
       "output_type": "stream",
       "stream": "stdout",
       "text": [
        "541 1255062\n"
       ]
      },
      {
       "output_type": "stream",
       "stream": "stdout",
       "text": [
        "542 1168291\n"
       ]
      },
      {
       "output_type": "stream",
       "stream": "stdout",
       "text": [
        "543 1240528\n"
       ]
      },
      {
       "output_type": "stream",
       "stream": "stdout",
       "text": [
        "544 1187613\n"
       ]
      },
      {
       "output_type": "stream",
       "stream": "stdout",
       "text": [
        "545 1267733\n"
       ]
      },
      {
       "output_type": "stream",
       "stream": "stdout",
       "text": [
        "546 1207665\n"
       ]
      },
      {
       "output_type": "stream",
       "stream": "stdout",
       "text": [
        "547 1166183\n"
       ]
      },
      {
       "output_type": "stream",
       "stream": "stderr",
       "text": [
        "-c:17: UserWarning: 92c8a78a2c09 looks like a backout, but we couldn't find which revision was backed out.\n",
        "-c:17: UserWarning: c163ecde3b7f looks like a backout, but we couldn't find which revision was backed out.\n"
       ]
      },
      {
       "output_type": "stream",
       "stream": "stderr",
       "text": [
        "-c:17: UserWarning: f7ea3e2adcdc looks like a backout, but we couldn't find which revision was backed out.\n",
        "-c:17: UserWarning: Reviewer rjesup@jesup.org is not in the list of reviewers on Bugzilla.\n"
       ]
      },
      {
       "output_type": "stream",
       "stream": "stdout",
       "text": [
        "548 1177634\n"
       ]
      },
      {
       "output_type": "stream",
       "stream": "stdout",
       "text": [
        "549 1243942\n"
       ]
      },
      {
       "output_type": "stream",
       "stream": "stdout",
       "text": [
        "550 1229760\n"
       ]
      },
      {
       "output_type": "stream",
       "stream": "stdout",
       "text": [
        "uplift_info error with bug 1229760: \n",
        "551 1233434\n"
       ]
      },
      {
       "output_type": "stream",
       "stream": "stdout",
       "text": [
        "552 1164468\n"
       ]
      },
      {
       "output_type": "stream",
       "stream": "stdout",
       "text": [
        "553 1218157\n"
       ]
      },
      {
       "output_type": "stream",
       "stream": "stdout",
       "text": [
        "554 1243729\n"
       ]
      },
      {
       "output_type": "stream",
       "stream": "stderr",
       "text": [
        "-c:25: UserWarning: Bug 1233434 doesn't have a uplift request date.\n",
        "-c:25: UserWarning: Bug 1243729 doesn't have a uplift request date.\n"
       ]
      },
      {
       "output_type": "stream",
       "stream": "stdout",
       "text": [
        "555 1164253\n"
       ]
      },
      {
       "output_type": "stream",
       "stream": "stdout",
       "text": [
        "556 1254856\n"
       ]
      },
      {
       "output_type": "stream",
       "stream": "stdout",
       "text": [
        "557 1162198\n"
       ]
      },
      {
       "output_type": "stream",
       "stream": "stdout",
       "text": [
        "558 1163265\n"
       ]
      },
      {
       "output_type": "stream",
       "stream": "stderr",
       "text": [
        "-c:25: UserWarning: Bug 1164253 doesn't have a uplift request date.\n",
        "-c:25: UserWarning: Bug 1163265 doesn't have a uplift request date.\n"
       ]
      },
      {
       "output_type": "stream",
       "stream": "stdout",
       "text": [
        "559 1163917\n"
       ]
      },
      {
       "output_type": "stream",
       "stream": "stdout",
       "text": [
        "560 1195683\n"
       ]
      },
      {
       "output_type": "stream",
       "stream": "stdout",
       "text": [
        "561 1254980\n"
       ]
      },
      {
       "output_type": "stream",
       "stream": "stdout",
       "text": [
        "bug_analysis error with bug 1254980: 'NoneType' object has no attribute 'group'\n",
        "562 1265815\n"
       ]
      },
      {
       "output_type": "stream",
       "stream": "stderr",
       "text": [
        "-c:17: UserWarning: Reviewer kentuckyfriedtakehe could not be found.\n",
        "-c:25: UserWarning: Bug 1265815 doesn't have a uplift request date.\n"
       ]
      },
      {
       "output_type": "stream",
       "stream": "stdout",
       "text": [
        "563 1259842\n"
       ]
      },
      {
       "output_type": "stream",
       "stream": "stdout",
       "text": [
        "564 1193625\n"
       ]
      },
      {
       "output_type": "stream",
       "stream": "stdout",
       "text": [
        "565 1164426\n"
       ]
      },
      {
       "output_type": "stream",
       "stream": "stdout",
       "text": [
        "566 1254456\n"
       ]
      },
      {
       "output_type": "stream",
       "stream": "stdout",
       "text": [
        "567 1224481\n"
       ]
      },
      {
       "output_type": "stream",
       "stream": "stderr",
       "text": [
        "-c:25: UserWarning: Bug 1259842 doesn't have a uplift request date.\n",
        "-c:25: UserWarning: Bug 1224481 doesn't have a uplift request date.\n"
       ]
      },
      {
       "output_type": "stream",
       "stream": "stdout",
       "text": [
        "568 1229350\n"
       ]
      },
      {
       "output_type": "stream",
       "stream": "stdout",
       "text": [
        "569 1224577\n"
       ]
      },
      {
       "output_type": "stream",
       "stream": "stdout",
       "text": [
        "570 1181130\n"
       ]
      },
      {
       "output_type": "stream",
       "stream": "stdout",
       "text": [
        "571 1194733\n"
       ]
      },
      {
       "output_type": "stream",
       "stream": "stdout",
       "text": [
        "572 1265928\n"
       ]
      },
      {
       "output_type": "stream",
       "stream": "stdout",
       "text": [
        "573 1170746\n"
       ]
      },
      {
       "output_type": "stream",
       "stream": "stdout",
       "text": [
        "574 1177723\n"
       ]
      },
      {
       "output_type": "stream",
       "stream": "stdout",
       "text": [
        "575 1279440\n"
       ]
      },
      {
       "output_type": "stream",
       "stream": "stderr",
       "text": [
        "-c:25: UserWarning: Bug 1265928 doesn't have a uplift request date.\n",
        "-c:17: UserWarning: Revision 3105928e631b doesn't exist.\n"
       ]
      },
      {
       "output_type": "stream",
       "stream": "stdout",
       "text": [
        "Connection error:\n",
        "   url:  http://marco-ThinkPad-W541:8000//json-rev?node=3105928e631b\n",
        "   text:  \"revision not found: 3105928e631b\"\n",
        "Connection error:\n",
        "   url:  http://marco-ThinkPad-W541:8000//json-rev?node=3105928e631b\n",
        "   text:  \"revision not found: 3105928e631b\"\n",
        "576 1279467"
       ]
      },
      {
       "output_type": "stream",
       "stream": "stdout",
       "text": [
        "\n"
       ]
      },
      {
       "output_type": "stream",
       "stream": "stdout",
       "text": [
        "577 1280799\n"
       ]
      },
      {
       "output_type": "stream",
       "stream": "stdout",
       "text": [
        "Connection error:\n",
        "   url:  http://marco-ThinkPad-W541:8000//json-rev?node=6de5b59dbcf9\n",
        "   text:  \"revision not found: 6de5b59dbcf9\"\n",
        "Connection error:\n",
        "   url:  http://marco-ThinkPad-W541:8000//json-rev?node=6de5b59dbcf9\n",
        "   text:  \"revision not found: 6de5b59dbcf9\"\n"
       ]
      },
      {
       "output_type": "stream",
       "stream": "stderr",
       "text": [
        "-c:17: UserWarning: Revision 6de5b59dbcf9 doesn't exist.\n"
       ]
      },
      {
       "metadata": {},
       "output_type": "pyout",
       "prompt_number": 5,
       "text": [
        "577"
       ]
      }
     ],
     "prompt_number": 5
    },
    {
     "cell_type": "code",
     "collapsed": false,
     "input": [
      "df = pd.DataFrame(bug_set)\n",
      "df.head()"
     ],
     "language": "python",
     "metadata": {},
     "outputs": [
      {
       "html": [
        "<div style=\"max-width:1500px;overflow:auto;\">\n",
        "<table border=\"1\" class=\"dataframe\">\n",
        "  <thead>\n",
        "    <tr style=\"text-align: right;\">\n",
        "      <th></th>\n",
        "      <th>backout_num</th>\n",
        "      <th>blocks</th>\n",
        "      <th>changes_size</th>\n",
        "      <th>code_churn_last_3_releases</th>\n",
        "      <th>code_churn_overall</th>\n",
        "      <th>comments</th>\n",
        "      <th>crashes</th>\n",
        "      <th>depends_on</th>\n",
        "      <th>developer_familiarity_last_3_releases</th>\n",
        "      <th>developer_familiarity_overall</th>\n",
        "      <th>...</th>\n",
        "      <th>priority</th>\n",
        "      <th>product</th>\n",
        "      <th>r-ed_patches</th>\n",
        "      <th>release_delta</th>\n",
        "      <th>response_delta</th>\n",
        "      <th>reviewer_familiarity_last_3_releases</th>\n",
        "      <th>reviewer_familiarity_overall</th>\n",
        "      <th>test_changes_size</th>\n",
        "      <th>uplift_accepted</th>\n",
        "      <th>version</th>\n",
        "    </tr>\n",
        "  </thead>\n",
        "  <tbody>\n",
        "    <tr>\n",
        "      <th>0</th>\n",
        "      <td>0</td>\n",
        "      <td>4</td>\n",
        "      <td>24</td>\n",
        "      <td>15</td>\n",
        "      <td>15</td>\n",
        "      <td>38</td>\n",
        "      <td>251</td>\n",
        "      <td>0</td>\n",
        "      <td>4</td>\n",
        "      <td>4</td>\n",
        "      <td>...</td>\n",
        "      <td>--</td>\n",
        "      <td>Core</td>\n",
        "      <td>0</td>\n",
        "      <td>17 days 05:28:47</td>\n",
        "      <td>0 days 00:14:03</td>\n",
        "      <td>0</td>\n",
        "      <td>0</td>\n",
        "      <td>39</td>\n",
        "      <td>False</td>\n",
        "      <td>Trunk</td>\n",
        "    </tr>\n",
        "    <tr>\n",
        "      <th>1</th>\n",
        "      <td>0</td>\n",
        "      <td>1</td>\n",
        "      <td>51</td>\n",
        "      <td>282</td>\n",
        "      <td>2474</td>\n",
        "      <td>29</td>\n",
        "      <td>0</td>\n",
        "      <td>0</td>\n",
        "      <td>4</td>\n",
        "      <td>15</td>\n",
        "      <td>...</td>\n",
        "      <td>--</td>\n",
        "      <td>Core</td>\n",
        "      <td>0</td>\n",
        "      <td>35 days 03:34:54</td>\n",
        "      <td>0 days 00:51:55</td>\n",
        "      <td>4</td>\n",
        "      <td>87</td>\n",
        "      <td>0</td>\n",
        "      <td>True</td>\n",
        "      <td>Trunk</td>\n",
        "    </tr>\n",
        "    <tr>\n",
        "      <th>2</th>\n",
        "      <td>0</td>\n",
        "      <td>2</td>\n",
        "      <td>91</td>\n",
        "      <td>22</td>\n",
        "      <td>85</td>\n",
        "      <td>43</td>\n",
        "      <td>56</td>\n",
        "      <td>0</td>\n",
        "      <td>1</td>\n",
        "      <td>7</td>\n",
        "      <td>...</td>\n",
        "      <td>--</td>\n",
        "      <td>Core</td>\n",
        "      <td>0</td>\n",
        "      <td>34 days 08:12:58</td>\n",
        "      <td>0 days 07:40:46</td>\n",
        "      <td>0</td>\n",
        "      <td>6</td>\n",
        "      <td>0</td>\n",
        "      <td>True</td>\n",
        "      <td>Trunk</td>\n",
        "    </tr>\n",
        "    <tr>\n",
        "      <th>3</th>\n",
        "      <td>0</td>\n",
        "      <td>1</td>\n",
        "      <td>3</td>\n",
        "      <td>0</td>\n",
        "      <td>0</td>\n",
        "      <td>56</td>\n",
        "      <td>0</td>\n",
        "      <td>1</td>\n",
        "      <td>0</td>\n",
        "      <td>0</td>\n",
        "      <td>...</td>\n",
        "      <td>P2</td>\n",
        "      <td>Release Engineering</td>\n",
        "      <td>0</td>\n",
        "      <td>4 days 03:47:47</td>\n",
        "      <td>1 days 00:19:25</td>\n",
        "      <td>0</td>\n",
        "      <td>0</td>\n",
        "      <td>0</td>\n",
        "      <td>True</td>\n",
        "      <td>other</td>\n",
        "    </tr>\n",
        "    <tr>\n",
        "      <th>4</th>\n",
        "      <td>0</td>\n",
        "      <td>1</td>\n",
        "      <td>41</td>\n",
        "      <td>67</td>\n",
        "      <td>1042</td>\n",
        "      <td>35</td>\n",
        "      <td>594</td>\n",
        "      <td>0</td>\n",
        "      <td>2</td>\n",
        "      <td>32</td>\n",
        "      <td>...</td>\n",
        "      <td>--</td>\n",
        "      <td>Core</td>\n",
        "      <td>0</td>\n",
        "      <td>6 days 05:17:14</td>\n",
        "      <td>3 days 04:14:25</td>\n",
        "      <td>3</td>\n",
        "      <td>100</td>\n",
        "      <td>0</td>\n",
        "      <td>False</td>\n",
        "      <td>unspecified</td>\n",
        "    </tr>\n",
        "  </tbody>\n",
        "</table>\n",
        "<p>5 rows \u00d7 24 columns</p>\n",
        "</div>"
       ],
       "metadata": {},
       "output_type": "pyout",
       "prompt_number": 6,
       "text": [
        "   backout_num  blocks  changes_size  code_churn_last_3_releases  \\\n",
        "0            0       4            24                          15   \n",
        "1            0       1            51                         282   \n",
        "2            0       2            91                          22   \n",
        "3            0       1             3                           0   \n",
        "4            0       1            41                          67   \n",
        "\n",
        "   code_churn_overall  comments  crashes  depends_on  \\\n",
        "0                  15        38      251           0   \n",
        "1                2474        29        0           0   \n",
        "2                  85        43       56           0   \n",
        "3                   0        56        0           1   \n",
        "4                1042        35      594           0   \n",
        "\n",
        "   developer_familiarity_last_3_releases  developer_familiarity_overall  \\\n",
        "0                                      4                              4   \n",
        "1                                      4                             15   \n",
        "2                                      1                              7   \n",
        "3                                      0                              0   \n",
        "4                                      2                             32   \n",
        "\n",
        "      ...       priority              product r-ed_patches    release_delta  \\\n",
        "0     ...             --                 Core            0 17 days 05:28:47   \n",
        "1     ...             --                 Core            0 35 days 03:34:54   \n",
        "2     ...             --                 Core            0 34 days 08:12:58   \n",
        "3     ...             P2  Release Engineering            0  4 days 03:47:47   \n",
        "4     ...             --                 Core            0  6 days 05:17:14   \n",
        "\n",
        "   response_delta reviewer_familiarity_last_3_releases  \\\n",
        "0 0 days 00:14:03                                    0   \n",
        "1 0 days 00:51:55                                    4   \n",
        "2 0 days 07:40:46                                    0   \n",
        "3 1 days 00:19:25                                    0   \n",
        "4 3 days 04:14:25                                    3   \n",
        "\n",
        "   reviewer_familiarity_overall  test_changes_size  uplift_accepted  \\\n",
        "0                             0                 39            False   \n",
        "1                            87                  0             True   \n",
        "2                             6                  0             True   \n",
        "3                             0                  0             True   \n",
        "4                           100                  0            False   \n",
        "\n",
        "       version  \n",
        "0        Trunk  \n",
        "1        Trunk  \n",
        "2        Trunk  \n",
        "3        other  \n",
        "4  unspecified  \n",
        "\n",
        "[5 rows x 24 columns]"
       ]
      }
     ],
     "prompt_number": 6
    },
    {
     "cell_type": "code",
     "collapsed": false,
     "input": [
      "df.info()"
     ],
     "language": "python",
     "metadata": {},
     "outputs": [
      {
       "output_type": "stream",
       "stream": "stdout",
       "text": [
        "<class 'pandas.core.frame.DataFrame'>\n",
        "Int64Index: 577 entries, 0 to 576\n",
        "Data columns (total 24 columns):\n",
        "backout_num                              569 non-null float64\n",
        "blocks                                   569 non-null float64\n",
        "changes_size                             564 non-null float64\n",
        "code_churn_last_3_releases               564 non-null float64\n",
        "code_churn_overall                       564 non-null float64\n",
        "comments                                 569 non-null float64\n",
        "crashes                                  564 non-null float64\n",
        "depends_on                               569 non-null float64\n",
        "developer_familiarity_last_3_releases    564 non-null float64\n",
        "developer_familiarity_overall            564 non-null float64\n",
        "landing_delta                            576 non-null timedelta64[ns]\n",
        "modules_num                              564 non-null float64\n",
        "op_sys                                   577 non-null object\n",
        "platform                                 577 non-null object\n",
        "priority                                 577 non-null object\n",
        "product                                  577 non-null object\n",
        "r-ed_patches                             569 non-null float64\n",
        "release_delta                            576 non-null timedelta64[ns]\n",
        "response_delta                           569 non-null timedelta64[ns]\n",
        "reviewer_familiarity_last_3_releases     564 non-null float64\n",
        "reviewer_familiarity_overall             564 non-null float64\n",
        "test_changes_size                        564 non-null float64\n",
        "uplift_accepted                          576 non-null object\n",
        "version                                  577 non-null object\n",
        "dtypes: float64(15), object(6), timedelta64[ns](3)\n",
        "memory usage: 112.7+ KB\n"
       ]
      }
     ],
     "prompt_number": 7
    },
    {
     "cell_type": "code",
     "collapsed": false,
     "input": [
      "df.describe()"
     ],
     "language": "python",
     "metadata": {},
     "outputs": [
      {
       "html": [
        "<div style=\"max-width:1500px;overflow:auto;\">\n",
        "<table border=\"1\" class=\"dataframe\">\n",
        "  <thead>\n",
        "    <tr style=\"text-align: right;\">\n",
        "      <th></th>\n",
        "      <th>backout_num</th>\n",
        "      <th>blocks</th>\n",
        "      <th>changes_size</th>\n",
        "      <th>code_churn_last_3_releases</th>\n",
        "      <th>code_churn_overall</th>\n",
        "      <th>comments</th>\n",
        "      <th>crashes</th>\n",
        "      <th>depends_on</th>\n",
        "      <th>developer_familiarity_last_3_releases</th>\n",
        "      <th>developer_familiarity_overall</th>\n",
        "      <th>landing_delta</th>\n",
        "      <th>modules_num</th>\n",
        "      <th>r-ed_patches</th>\n",
        "      <th>release_delta</th>\n",
        "      <th>response_delta</th>\n",
        "      <th>reviewer_familiarity_last_3_releases</th>\n",
        "      <th>reviewer_familiarity_overall</th>\n",
        "      <th>test_changes_size</th>\n",
        "    </tr>\n",
        "  </thead>\n",
        "  <tbody>\n",
        "    <tr>\n",
        "      <th>count</th>\n",
        "      <td>569.000000</td>\n",
        "      <td>569.000000</td>\n",
        "      <td>564.000000</td>\n",
        "      <td>564.000000</td>\n",
        "      <td>564.000000</td>\n",
        "      <td>569.000000</td>\n",
        "      <td>564.000000</td>\n",
        "      <td>569.000000</td>\n",
        "      <td>564.000000</td>\n",
        "      <td>564.000000</td>\n",
        "      <td>576</td>\n",
        "      <td>564.000000</td>\n",
        "      <td>569.000000</td>\n",
        "      <td>576</td>\n",
        "      <td>569</td>\n",
        "      <td>564.000000</td>\n",
        "      <td>564.000000</td>\n",
        "      <td>564.000000</td>\n",
        "    </tr>\n",
        "    <tr>\n",
        "      <th>mean</th>\n",
        "      <td>0.117750</td>\n",
        "      <td>1.149385</td>\n",
        "      <td>198.971631</td>\n",
        "      <td>60.859929</td>\n",
        "      <td>458.407801</td>\n",
        "      <td>36.504394</td>\n",
        "      <td>6728.812057</td>\n",
        "      <td>0.597540</td>\n",
        "      <td>6.345745</td>\n",
        "      <td>24.365248</td>\n",
        "      <td>3 days 03:28:33.140625</td>\n",
        "      <td>1.491135</td>\n",
        "      <td>0.124780</td>\n",
        "      <td>23 days 04:23:33.111111</td>\n",
        "      <td>2 days 04:14:14.824253</td>\n",
        "      <td>5.867021</td>\n",
        "      <td>31.588652</td>\n",
        "      <td>43.765957</td>\n",
        "    </tr>\n",
        "    <tr>\n",
        "      <th>std</th>\n",
        "      <td>0.387095</td>\n",
        "      <td>1.110372</td>\n",
        "      <td>1099.872661</td>\n",
        "      <td>103.337261</td>\n",
        "      <td>825.461510</td>\n",
        "      <td>30.883762</td>\n",
        "      <td>99754.798627</td>\n",
        "      <td>1.583829</td>\n",
        "      <td>10.752304</td>\n",
        "      <td>41.200044</td>\n",
        "      <td>23 days 11:35:20.636835</td>\n",
        "      <td>1.086781</td>\n",
        "      <td>0.478666</td>\n",
        "      <td>14 days 21:03:04.530368</td>\n",
        "      <td>5 days 12:45:11.666305</td>\n",
        "      <td>30.040560</td>\n",
        "      <td>162.939389</td>\n",
        "      <td>400.690025</td>\n",
        "    </tr>\n",
        "    <tr>\n",
        "      <th>min</th>\n",
        "      <td>0.000000</td>\n",
        "      <td>0.000000</td>\n",
        "      <td>0.000000</td>\n",
        "      <td>0.000000</td>\n",
        "      <td>0.000000</td>\n",
        "      <td>3.000000</td>\n",
        "      <td>0.000000</td>\n",
        "      <td>0.000000</td>\n",
        "      <td>0.000000</td>\n",
        "      <td>0.000000</td>\n",
        "      <td>-277 days +18:16:14</td>\n",
        "      <td>0.000000</td>\n",
        "      <td>0.000000</td>\n",
        "      <td>0 days 00:07:00</td>\n",
        "      <td>0 days 00:00:00</td>\n",
        "      <td>0.000000</td>\n",
        "      <td>0.000000</td>\n",
        "      <td>0.000000</td>\n",
        "    </tr>\n",
        "    <tr>\n",
        "      <th>25%</th>\n",
        "      <td>0.000000</td>\n",
        "      <td>0.000000</td>\n",
        "      <td>23.000000</td>\n",
        "      <td>8.000000</td>\n",
        "      <td>34.750000</td>\n",
        "      <td>18.000000</td>\n",
        "      <td>0.000000</td>\n",
        "      <td>0.000000</td>\n",
        "      <td>0.000000</td>\n",
        "      <td>1.000000</td>\n",
        "      <td>-1 days +07:25:23.250000</td>\n",
        "      <td>1.000000</td>\n",
        "      <td>0.000000</td>\n",
        "      <td>7 days 03:03:43.250000</td>\n",
        "      <td>0 days 00:00:00</td>\n",
        "      <td>0.000000</td>\n",
        "      <td>0.000000</td>\n",
        "      <td>0.000000</td>\n",
        "    </tr>\n",
        "    <tr>\n",
        "      <th>50%</th>\n",
        "      <td>0.000000</td>\n",
        "      <td>1.000000</td>\n",
        "      <td>51.500000</td>\n",
        "      <td>25.000000</td>\n",
        "      <td>123.500000</td>\n",
        "      <td>27.000000</td>\n",
        "      <td>2.000000</td>\n",
        "      <td>0.000000</td>\n",
        "      <td>2.500000</td>\n",
        "      <td>8.500000</td>\n",
        "      <td>0 days 00:09:08</td>\n",
        "      <td>1.000000</td>\n",
        "      <td>0.000000</td>\n",
        "      <td>24 days 09:34:03</td>\n",
        "      <td>0 days 02:43:32</td>\n",
        "      <td>0.000000</td>\n",
        "      <td>1.000000</td>\n",
        "      <td>0.000000</td>\n",
        "    </tr>\n",
        "    <tr>\n",
        "      <th>75%</th>\n",
        "      <td>0.000000</td>\n",
        "      <td>2.000000</td>\n",
        "      <td>132.250000</td>\n",
        "      <td>69.250000</td>\n",
        "      <td>425.750000</td>\n",
        "      <td>44.000000</td>\n",
        "      <td>185.000000</td>\n",
        "      <td>1.000000</td>\n",
        "      <td>8.000000</td>\n",
        "      <td>29.000000</td>\n",
        "      <td>3 days 00:36:23</td>\n",
        "      <td>2.000000</td>\n",
        "      <td>0.000000</td>\n",
        "      <td>35 days 05:17:06.250000</td>\n",
        "      <td>1 days 20:05:47</td>\n",
        "      <td>3.000000</td>\n",
        "      <td>14.000000</td>\n",
        "      <td>0.000000</td>\n",
        "    </tr>\n",
        "    <tr>\n",
        "      <th>max</th>\n",
        "      <td>3.000000</td>\n",
        "      <td>8.000000</td>\n",
        "      <td>23273.000000</td>\n",
        "      <td>1251.000000</td>\n",
        "      <td>6360.000000</td>\n",
        "      <td>316.000000</td>\n",
        "      <td>2105884.000000</td>\n",
        "      <td>22.000000</td>\n",
        "      <td>105.000000</td>\n",
        "      <td>333.000000</td>\n",
        "      <td>141 days 19:47:45</td>\n",
        "      <td>10.000000</td>\n",
        "      <td>5.000000</td>\n",
        "      <td>54 days 06:41:48</td>\n",
        "      <td>59 days 00:14:34</td>\n",
        "      <td>424.000000</td>\n",
        "      <td>2907.000000</td>\n",
        "      <td>9178.000000</td>\n",
        "    </tr>\n",
        "  </tbody>\n",
        "</table>\n",
        "</div>"
       ],
       "metadata": {},
       "output_type": "pyout",
       "prompt_number": 8,
       "text": [
        "       backout_num      blocks  changes_size  code_churn_last_3_releases  \\\n",
        "count   569.000000  569.000000    564.000000                  564.000000   \n",
        "mean      0.117750    1.149385    198.971631                   60.859929   \n",
        "std       0.387095    1.110372   1099.872661                  103.337261   \n",
        "min       0.000000    0.000000      0.000000                    0.000000   \n",
        "25%       0.000000    0.000000     23.000000                    8.000000   \n",
        "50%       0.000000    1.000000     51.500000                   25.000000   \n",
        "75%       0.000000    2.000000    132.250000                   69.250000   \n",
        "max       3.000000    8.000000  23273.000000                 1251.000000   \n",
        "\n",
        "       code_churn_overall    comments         crashes  depends_on  \\\n",
        "count          564.000000  569.000000      564.000000  569.000000   \n",
        "mean           458.407801   36.504394     6728.812057    0.597540   \n",
        "std            825.461510   30.883762    99754.798627    1.583829   \n",
        "min              0.000000    3.000000        0.000000    0.000000   \n",
        "25%             34.750000   18.000000        0.000000    0.000000   \n",
        "50%            123.500000   27.000000        2.000000    0.000000   \n",
        "75%            425.750000   44.000000      185.000000    1.000000   \n",
        "max           6360.000000  316.000000  2105884.000000   22.000000   \n",
        "\n",
        "       developer_familiarity_last_3_releases  developer_familiarity_overall  \\\n",
        "count                             564.000000                     564.000000   \n",
        "mean                                6.345745                      24.365248   \n",
        "std                                10.752304                      41.200044   \n",
        "min                                 0.000000                       0.000000   \n",
        "25%                                 0.000000                       1.000000   \n",
        "50%                                 2.500000                       8.500000   \n",
        "75%                                 8.000000                      29.000000   \n",
        "max                               105.000000                     333.000000   \n",
        "\n",
        "                  landing_delta  modules_num  r-ed_patches  \\\n",
        "count                       576   564.000000    569.000000   \n",
        "mean     3 days 03:28:33.140625     1.491135      0.124780   \n",
        "std     23 days 11:35:20.636835     1.086781      0.478666   \n",
        "min         -277 days +18:16:14     0.000000      0.000000   \n",
        "25%    -1 days +07:25:23.250000     1.000000      0.000000   \n",
        "50%             0 days 00:09:08     1.000000      0.000000   \n",
        "75%             3 days 00:36:23     2.000000      0.000000   \n",
        "max           141 days 19:47:45    10.000000      5.000000   \n",
        "\n",
        "                 release_delta          response_delta  \\\n",
        "count                      576                     569   \n",
        "mean   23 days 04:23:33.111111  2 days 04:14:14.824253   \n",
        "std    14 days 21:03:04.530368  5 days 12:45:11.666305   \n",
        "min            0 days 00:07:00         0 days 00:00:00   \n",
        "25%     7 days 03:03:43.250000         0 days 00:00:00   \n",
        "50%           24 days 09:34:03         0 days 02:43:32   \n",
        "75%    35 days 05:17:06.250000         1 days 20:05:47   \n",
        "max           54 days 06:41:48        59 days 00:14:34   \n",
        "\n",
        "       reviewer_familiarity_last_3_releases  reviewer_familiarity_overall  \\\n",
        "count                            564.000000                    564.000000   \n",
        "mean                               5.867021                     31.588652   \n",
        "std                               30.040560                    162.939389   \n",
        "min                                0.000000                      0.000000   \n",
        "25%                                0.000000                      0.000000   \n",
        "50%                                0.000000                      1.000000   \n",
        "75%                                3.000000                     14.000000   \n",
        "max                              424.000000                   2907.000000   \n",
        "\n",
        "       test_changes_size  \n",
        "count         564.000000  \n",
        "mean           43.765957  \n",
        "std           400.690025  \n",
        "min             0.000000  \n",
        "25%             0.000000  \n",
        "50%             0.000000  \n",
        "75%             0.000000  \n",
        "max          9178.000000  "
       ]
      }
     ],
     "prompt_number": 8
    },
    {
     "cell_type": "code",
     "collapsed": false,
     "input": [
      "pclass_xt = pd.crosstab(df['uplift_accepted'], df['r-ed_patches'])\n",
      "pclass_xt"
     ],
     "language": "python",
     "metadata": {},
     "outputs": [
      {
       "html": [
        "<div style=\"max-width:1500px;overflow:auto;\">\n",
        "<table border=\"1\" class=\"dataframe\">\n",
        "  <thead>\n",
        "    <tr style=\"text-align: right;\">\n",
        "      <th>r-ed_patches</th>\n",
        "      <th>0.0</th>\n",
        "      <th>1.0</th>\n",
        "      <th>2.0</th>\n",
        "      <th>3.0</th>\n",
        "      <th>5.0</th>\n",
        "    </tr>\n",
        "    <tr>\n",
        "      <th>uplift_accepted</th>\n",
        "      <th></th>\n",
        "      <th></th>\n",
        "      <th></th>\n",
        "      <th></th>\n",
        "      <th></th>\n",
        "    </tr>\n",
        "  </thead>\n",
        "  <tbody>\n",
        "    <tr>\n",
        "      <th>False</th>\n",
        "      <td>127</td>\n",
        "      <td>13</td>\n",
        "      <td>0</td>\n",
        "      <td>0</td>\n",
        "      <td>1</td>\n",
        "    </tr>\n",
        "    <tr>\n",
        "      <th>True</th>\n",
        "      <td>390</td>\n",
        "      <td>26</td>\n",
        "      <td>8</td>\n",
        "      <td>2</td>\n",
        "      <td>1</td>\n",
        "    </tr>\n",
        "  </tbody>\n",
        "</table>\n",
        "</div>"
       ],
       "metadata": {},
       "output_type": "pyout",
       "prompt_number": 20,
       "text": [
        "r-ed_patches       0   1  2  3  5\n",
        "uplift_accepted                  \n",
        "False            127  13  0  0  1\n",
        "True             390  26  8  2  1"
       ]
      }
     ],
     "prompt_number": 20
    },
    {
     "cell_type": "code",
     "collapsed": false,
     "input": [
      "# Normalize the cross tab to sum to 1:\n",
      "pclass_xt_pct = pclass_xt.div(pclass_xt.sum(1).astype(float), axis=0)\n",
      "\n",
      "pclass_xt_pct.plot(kind='bar', \n",
      "                   stacked=True)"
     ],
     "language": "python",
     "metadata": {},
     "outputs": [
      {
       "metadata": {},
       "output_type": "pyout",
       "prompt_number": 21,
       "text": [
        "<matplotlib.axes._subplots.AxesSubplot at 0x7f58dc30a438>"
       ]
      },
      {
       "metadata": {},
       "output_type": "display_data",
       "png": "[encoded data removed]",
       "text": [
        "<matplotlib.figure.Figure at 0x7f58dc84c390>"
       ]
      }
     ],
     "prompt_number": 21
    },
    {
     "cell_type": "code",
     "collapsed": false,
     "input": [
      "df.backout_num[df.uplift_accepted == True].plot(kind='kde')\n",
      "df.backout_num[df.uplift_accepted == False].plot(kind='kde')"
     ],
     "language": "python",
     "metadata": {},
     "outputs": [
      {
       "metadata": {},
       "output_type": "pyout",
       "prompt_number": 26,
       "text": [
        "<matplotlib.axes._subplots.AxesSubplot at 0x7f588c595ac8>"
       ]
      },
      {
       "metadata": {},
       "output_type": "display_data",
       "png": "[encoded data removed]",
       "text": [
        "<matplotlib.figure.Figure at 0x7f588c555588>"
       ]
      }
     ],
     "prompt_number": 26
    },
    {
     "cell_type": "code",
     "collapsed": false,
     "input": [
      "df[df.uplift_accepted == True][['changes_size', 'code_churn_last_3_releases', 'developer_familiarity_last_3_releases', 'reviewer_familiarity_last_3_releases']].describe()"
     ],
     "language": "python",
     "metadata": {},
     "outputs": [
      {
       "html": [
        "<div style=\"max-width:1500px;overflow:auto;\">\n",
        "<table border=\"1\" class=\"dataframe\">\n",
        "  <thead>\n",
        "    <tr style=\"text-align: right;\">\n",
        "      <th></th>\n",
        "      <th>changes_size</th>\n",
        "      <th>code_churn_last_3_releases</th>\n",
        "      <th>developer_familiarity_last_3_releases</th>\n",
        "      <th>reviewer_familiarity_last_3_releases</th>\n",
        "    </tr>\n",
        "  </thead>\n",
        "  <tbody>\n",
        "    <tr>\n",
        "      <th>count</th>\n",
        "      <td>423.000000</td>\n",
        "      <td>423.000000</td>\n",
        "      <td>423.000000</td>\n",
        "      <td>423.000000</td>\n",
        "    </tr>\n",
        "    <tr>\n",
        "      <th>mean</th>\n",
        "      <td>161.458629</td>\n",
        "      <td>64.222222</td>\n",
        "      <td>6.515366</td>\n",
        "      <td>5.950355</td>\n",
        "    </tr>\n",
        "    <tr>\n",
        "      <th>std</th>\n",
        "      <td>540.706982</td>\n",
        "      <td>106.756412</td>\n",
        "      <td>11.120585</td>\n",
        "      <td>30.445272</td>\n",
        "    </tr>\n",
        "    <tr>\n",
        "      <th>min</th>\n",
        "      <td>0.000000</td>\n",
        "      <td>0.000000</td>\n",
        "      <td>0.000000</td>\n",
        "      <td>0.000000</td>\n",
        "    </tr>\n",
        "    <tr>\n",
        "      <th>25%</th>\n",
        "      <td>23.000000</td>\n",
        "      <td>9.000000</td>\n",
        "      <td>0.000000</td>\n",
        "      <td>0.000000</td>\n",
        "    </tr>\n",
        "    <tr>\n",
        "      <th>50%</th>\n",
        "      <td>52.000000</td>\n",
        "      <td>25.000000</td>\n",
        "      <td>3.000000</td>\n",
        "      <td>0.000000</td>\n",
        "    </tr>\n",
        "    <tr>\n",
        "      <th>75%</th>\n",
        "      <td>134.500000</td>\n",
        "      <td>77.000000</td>\n",
        "      <td>8.000000</td>\n",
        "      <td>3.000000</td>\n",
        "    </tr>\n",
        "    <tr>\n",
        "      <th>max</th>\n",
        "      <td>9864.000000</td>\n",
        "      <td>1251.000000</td>\n",
        "      <td>105.000000</td>\n",
        "      <td>424.000000</td>\n",
        "    </tr>\n",
        "  </tbody>\n",
        "</table>\n",
        "</div>"
       ],
       "metadata": {},
       "output_type": "pyout",
       "prompt_number": 30,
       "text": [
        "       changes_size  code_churn_last_3_releases  \\\n",
        "count    423.000000                  423.000000   \n",
        "mean     161.458629                   64.222222   \n",
        "std      540.706982                  106.756412   \n",
        "min        0.000000                    0.000000   \n",
        "25%       23.000000                    9.000000   \n",
        "50%       52.000000                   25.000000   \n",
        "75%      134.500000                   77.000000   \n",
        "max     9864.000000                 1251.000000   \n",
        "\n",
        "       developer_familiarity_last_3_releases  \\\n",
        "count                             423.000000   \n",
        "mean                                6.515366   \n",
        "std                                11.120585   \n",
        "min                                 0.000000   \n",
        "25%                                 0.000000   \n",
        "50%                                 3.000000   \n",
        "75%                                 8.000000   \n",
        "max                               105.000000   \n",
        "\n",
        "       reviewer_familiarity_last_3_releases  \n",
        "count                            423.000000  \n",
        "mean                               5.950355  \n",
        "std                               30.445272  \n",
        "min                                0.000000  \n",
        "25%                                0.000000  \n",
        "50%                                0.000000  \n",
        "75%                                3.000000  \n",
        "max                              424.000000  "
       ]
      }
     ],
     "prompt_number": 30
    },
    {
     "cell_type": "code",
     "collapsed": false,
     "input": [
      "df[df.uplift_accepted == False][['changes_size', 'code_churn_last_3_releases', 'developer_familiarity_last_3_releases', 'reviewer_familiarity_last_3_releases']].describe()"
     ],
     "language": "python",
     "metadata": {},
     "outputs": [
      {
       "html": [
        "<div style=\"max-width:1500px;overflow:auto;\">\n",
        "<table border=\"1\" class=\"dataframe\">\n",
        "  <thead>\n",
        "    <tr style=\"text-align: right;\">\n",
        "      <th></th>\n",
        "      <th>changes_size</th>\n",
        "      <th>code_churn_last_3_releases</th>\n",
        "      <th>developer_familiarity_last_3_releases</th>\n",
        "      <th>reviewer_familiarity_last_3_releases</th>\n",
        "    </tr>\n",
        "  </thead>\n",
        "  <tbody>\n",
        "    <tr>\n",
        "      <th>count</th>\n",
        "      <td>140.000000</td>\n",
        "      <td>140.000000</td>\n",
        "      <td>140.000000</td>\n",
        "      <td>140.000000</td>\n",
        "    </tr>\n",
        "    <tr>\n",
        "      <th>mean</th>\n",
        "      <td>313.000000</td>\n",
        "      <td>50.078571</td>\n",
        "      <td>5.878571</td>\n",
        "      <td>5.621429</td>\n",
        "    </tr>\n",
        "    <tr>\n",
        "      <th>std</th>\n",
        "      <td>1998.686349</td>\n",
        "      <td>91.898135</td>\n",
        "      <td>9.603258</td>\n",
        "      <td>29.000240</td>\n",
        "    </tr>\n",
        "    <tr>\n",
        "      <th>min</th>\n",
        "      <td>0.000000</td>\n",
        "      <td>0.000000</td>\n",
        "      <td>0.000000</td>\n",
        "      <td>0.000000</td>\n",
        "    </tr>\n",
        "    <tr>\n",
        "      <th>25%</th>\n",
        "      <td>24.000000</td>\n",
        "      <td>6.000000</td>\n",
        "      <td>0.000000</td>\n",
        "      <td>0.000000</td>\n",
        "    </tr>\n",
        "    <tr>\n",
        "      <th>50%</th>\n",
        "      <td>49.000000</td>\n",
        "      <td>22.500000</td>\n",
        "      <td>2.000000</td>\n",
        "      <td>0.000000</td>\n",
        "    </tr>\n",
        "    <tr>\n",
        "      <th>75%</th>\n",
        "      <td>122.500000</td>\n",
        "      <td>45.250000</td>\n",
        "      <td>7.000000</td>\n",
        "      <td>4.000000</td>\n",
        "    </tr>\n",
        "    <tr>\n",
        "      <th>max</th>\n",
        "      <td>23273.000000</td>\n",
        "      <td>687.000000</td>\n",
        "      <td>58.000000</td>\n",
        "      <td>334.000000</td>\n",
        "    </tr>\n",
        "  </tbody>\n",
        "</table>\n",
        "</div>"
       ],
       "metadata": {},
       "output_type": "pyout",
       "prompt_number": 31,
       "text": [
        "       changes_size  code_churn_last_3_releases  \\\n",
        "count    140.000000                  140.000000   \n",
        "mean     313.000000                   50.078571   \n",
        "std     1998.686349                   91.898135   \n",
        "min        0.000000                    0.000000   \n",
        "25%       24.000000                    6.000000   \n",
        "50%       49.000000                   22.500000   \n",
        "75%      122.500000                   45.250000   \n",
        "max    23273.000000                  687.000000   \n",
        "\n",
        "       developer_familiarity_last_3_releases  \\\n",
        "count                             140.000000   \n",
        "mean                                5.878571   \n",
        "std                                 9.603258   \n",
        "min                                 0.000000   \n",
        "25%                                 0.000000   \n",
        "50%                                 2.000000   \n",
        "75%                                 7.000000   \n",
        "max                                58.000000   \n",
        "\n",
        "       reviewer_familiarity_last_3_releases  \n",
        "count                            140.000000  \n",
        "mean                               5.621429  \n",
        "std                               29.000240  \n",
        "min                                0.000000  \n",
        "25%                                0.000000  \n",
        "50%                                0.000000  \n",
        "75%                                4.000000  \n",
        "max                              334.000000  "
       ]
      }
     ],
     "prompt_number": 31
    },
    {
     "cell_type": "code",
     "collapsed": false,
     "input": [
      "df.hist(figsize=(40,40))"
     ],
     "language": "python",
     "metadata": {},
     "outputs": [
      {
       "metadata": {},
       "output_type": "pyout",
       "prompt_number": 33,
       "text": [
        "array([[<matplotlib.axes._subplots.AxesSubplot object at 0x7f588c4b8908>,\n",
        "        <matplotlib.axes._subplots.AxesSubplot object at 0x7f588c3f7198>,\n",
        "        <matplotlib.axes._subplots.AxesSubplot object at 0x7f588c3beb70>,\n",
        "        <matplotlib.axes._subplots.AxesSubplot object at 0x7f588c37d2b0>],\n",
        "       [<matplotlib.axes._subplots.AxesSubplot object at 0x7f588c343d68>,\n",
        "        <matplotlib.axes._subplots.AxesSubplot object at 0x7f588c2fcdd8>,\n",
        "        <matplotlib.axes._subplots.AxesSubplot object at 0x7f588c2ca9e8>,\n",
        "        <matplotlib.axes._subplots.AxesSubplot object at 0x7f588c283b00>],\n",
        "       [<matplotlib.axes._subplots.AxesSubplot object at 0x7f588c24ac18>,\n",
        "        <matplotlib.axes._subplots.AxesSubplot object at 0x7f588c205940>,\n",
        "        <matplotlib.axes._subplots.AxesSubplot object at 0x7f588c1b95c0>,\n",
        "        <matplotlib.axes._subplots.AxesSubplot object at 0x7f588c180c88>],\n",
        "       [<matplotlib.axes._subplots.AxesSubplot object at 0x7f588c140160>,\n",
        "        <matplotlib.axes._subplots.AxesSubplot object at 0x7f588c108860>,\n",
        "        <matplotlib.axes._subplots.AxesSubplot object at 0x7f588c0c8160>,\n",
        "        <matplotlib.axes._subplots.AxesSubplot object at 0x7f588c08de10>]], dtype=object)"
       ]
      },
      {
       "metadata": {},
       "output_type": "display_data",
       "png": "[encoded data removed]",
       "text": [
        "<matplotlib.figure.Figure at 0x7f58dc30a4e0>"
       ]
      }
     ],
     "prompt_number": 33
    },
    {
     "cell_type": "code",
     "collapsed": false,
     "input": [
      "df['product'].value_counts().plot.pie(figsize=(8,8))"
     ],
     "language": "python",
     "metadata": {},
     "outputs": [
      {
       "metadata": {},
       "output_type": "pyout",
       "prompt_number": 35,
       "text": [
        "<matplotlib.axes._subplots.AxesSubplot at 0x7f5877fe3f60>"
       ]
      },
      {
       "metadata": {},
       "output_type": "display_data",
       "png": "[encoded data removed]",
       "text": [
        "<matplotlib.figure.Figure at 0x7f588c063a58>"
       ]
      }
     ],
     "prompt_number": 35
    },
    {
     "cell_type": "code",
     "collapsed": false,
     "input": [
      "df.op_sys.value_counts().plot.pie(figsize=(8,8))"
     ],
     "language": "python",
     "metadata": {},
     "outputs": [
      {
       "metadata": {},
       "output_type": "pyout",
       "prompt_number": 36,
       "text": [
        "<matplotlib.axes._subplots.AxesSubplot at 0x7f587569d6a0>"
       ]
      },
      {
       "metadata": {},
       "output_type": "display_data",
       "png": "[encoded data removed]",
       "text": [
        "<matplotlib.figure.Figure at 0x7f5875533748>"
       ]
      }
     ],
     "prompt_number": 36
    },
    {
     "cell_type": "code",
     "collapsed": false,
     "input": [
      "df.platform.value_counts().plot.pie(figsize=(8,8))"
     ],
     "language": "python",
     "metadata": {},
     "outputs": [
      {
       "metadata": {},
       "output_type": "pyout",
       "prompt_number": 37,
       "text": [
        "<matplotlib.axes._subplots.AxesSubplot at 0x7f5877d97c18>"
       ]
      },
      {
       "metadata": {},
       "output_type": "display_data",
       "png": "[encoded data removed]",
       "text": [
        "<matplotlib.figure.Figure at 0x7f58756da438>"
       ]
      }
     ],
     "prompt_number": 37
    },
    {
     "cell_type": "code",
     "collapsed": false,
     "input": [
      "df.version.value_counts().plot.pie(figsize=(8,8))"
     ],
     "language": "python",
     "metadata": {},
     "outputs": [
      {
       "metadata": {},
       "output_type": "pyout",
       "prompt_number": 38,
       "text": [
        "<matplotlib.axes._subplots.AxesSubplot at 0x7f5877d34518>"
       ]
      },
      {
       "metadata": {},
       "output_type": "display_data",
       "png": "[encoded data removed]",
       "text": [
        "<matplotlib.figure.Figure at 0x7f5877cc2f28>"
       ]
      }
     ],
     "prompt_number": 38
    },
    {
     "cell_type": "code",
     "collapsed": false,
     "input": [
      "df.priority.value_counts().plot.pie(figsize=(8,8))"
     ],
     "language": "python",
     "metadata": {},
     "outputs": [
      {
       "metadata": {},
       "output_type": "pyout",
       "prompt_number": 39,
       "text": [
        "<matplotlib.axes._subplots.AxesSubplot at 0x7f5877ba5e80>"
       ]
      },
      {
       "metadata": {},
       "output_type": "display_data",
       "png": "[encoded data removed]",
       "text": [
        "<matplotlib.figure.Figure at 0x7f5877ba52b0>"
       ]
      }
     ],
     "prompt_number": 39
    },
    {
     "cell_type": "code",
     "collapsed": false,
     "input": [],
     "language": "python",
     "metadata": {},
     "outputs": []
    }
   ],
   "metadata": {}
  }
 ]
}